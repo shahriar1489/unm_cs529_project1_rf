{
 "cells": [
  {
   "cell_type": "code",
   "execution_count": 21,
   "id": "93c5bbb2",
   "metadata": {},
   "outputs": [],
   "source": [
    "import numpy as np \n",
    "import pandas as pd \n",
    "import matplotlib.pyplot as plt \n",
    "\n",
    "import os \n",
    "import sys "
   ]
  },
  {
   "cell_type": "code",
   "execution_count": 22,
   "id": "6e96a264",
   "metadata": {},
   "outputs": [],
   "source": [
    "df = pd.read_csv('train.csv')"
   ]
  },
  {
   "cell_type": "code",
   "execution_count": 23,
   "id": "48b72eb4",
   "metadata": {},
   "outputs": [],
   "source": [
    "df = df.drop('TransactionID', axis=1)"
   ]
  },
  {
   "cell_type": "code",
   "execution_count": 24,
   "id": "24e8c5aa",
   "metadata": {},
   "outputs": [
    {
     "data": {
      "text/html": [
       "<div>\n",
       "<style scoped>\n",
       "    .dataframe tbody tr th:only-of-type {\n",
       "        vertical-align: middle;\n",
       "    }\n",
       "\n",
       "    .dataframe tbody tr th {\n",
       "        vertical-align: top;\n",
       "    }\n",
       "\n",
       "    .dataframe thead th {\n",
       "        text-align: right;\n",
       "    }\n",
       "</style>\n",
       "<table border=\"1\" class=\"dataframe\">\n",
       "  <thead>\n",
       "    <tr style=\"text-align: right;\">\n",
       "      <th></th>\n",
       "      <th>ProductCD</th>\n",
       "      <th>card1</th>\n",
       "      <th>card2</th>\n",
       "      <th>card3</th>\n",
       "      <th>card4</th>\n",
       "      <th>card5</th>\n",
       "      <th>card6</th>\n",
       "      <th>addr1</th>\n",
       "      <th>addr2</th>\n",
       "      <th>TransactionDT</th>\n",
       "      <th>...</th>\n",
       "      <th>C6</th>\n",
       "      <th>C7</th>\n",
       "      <th>C8</th>\n",
       "      <th>C9</th>\n",
       "      <th>C10</th>\n",
       "      <th>C11</th>\n",
       "      <th>C12</th>\n",
       "      <th>C13</th>\n",
       "      <th>C14</th>\n",
       "      <th>isFraud</th>\n",
       "    </tr>\n",
       "  </thead>\n",
       "  <tbody>\n",
       "    <tr>\n",
       "      <th>0</th>\n",
       "      <td>C</td>\n",
       "      <td>5812</td>\n",
       "      <td>408.0</td>\n",
       "      <td>185.0</td>\n",
       "      <td>mastercard</td>\n",
       "      <td>224.0</td>\n",
       "      <td>debit</td>\n",
       "      <td>NotFound</td>\n",
       "      <td>NotFound</td>\n",
       "      <td>11844610</td>\n",
       "      <td>...</td>\n",
       "      <td>1.0</td>\n",
       "      <td>1.0</td>\n",
       "      <td>1.0</td>\n",
       "      <td>0.0</td>\n",
       "      <td>0.0</td>\n",
       "      <td>1.0</td>\n",
       "      <td>1.0</td>\n",
       "      <td>1.0</td>\n",
       "      <td>1.0</td>\n",
       "      <td>0</td>\n",
       "    </tr>\n",
       "    <tr>\n",
       "      <th>1</th>\n",
       "      <td>W</td>\n",
       "      <td>12577</td>\n",
       "      <td>268.0</td>\n",
       "      <td>150.0</td>\n",
       "      <td>visa</td>\n",
       "      <td>166.0</td>\n",
       "      <td>debit</td>\n",
       "      <td>123.0</td>\n",
       "      <td>87.0</td>\n",
       "      <td>12274010</td>\n",
       "      <td>...</td>\n",
       "      <td>94.0</td>\n",
       "      <td>0.0</td>\n",
       "      <td>0.0</td>\n",
       "      <td>85.0</td>\n",
       "      <td>0.0</td>\n",
       "      <td>104.0</td>\n",
       "      <td>0.0</td>\n",
       "      <td>457.0</td>\n",
       "      <td>120.0</td>\n",
       "      <td>0</td>\n",
       "    </tr>\n",
       "    <tr>\n",
       "      <th>2</th>\n",
       "      <td>H</td>\n",
       "      <td>12581</td>\n",
       "      <td>453.0</td>\n",
       "      <td>150.0</td>\n",
       "      <td>visa</td>\n",
       "      <td>226.0</td>\n",
       "      <td>debit</td>\n",
       "      <td>272.0</td>\n",
       "      <td>87.0</td>\n",
       "      <td>1343827</td>\n",
       "      <td>...</td>\n",
       "      <td>1.0</td>\n",
       "      <td>0.0</td>\n",
       "      <td>1.0</td>\n",
       "      <td>0.0</td>\n",
       "      <td>1.0</td>\n",
       "      <td>1.0</td>\n",
       "      <td>0.0</td>\n",
       "      <td>1.0</td>\n",
       "      <td>1.0</td>\n",
       "      <td>0</td>\n",
       "    </tr>\n",
       "    <tr>\n",
       "      <th>3</th>\n",
       "      <td>W</td>\n",
       "      <td>8139</td>\n",
       "      <td>327.0</td>\n",
       "      <td>150.0</td>\n",
       "      <td>discover</td>\n",
       "      <td>194.0</td>\n",
       "      <td>credit</td>\n",
       "      <td>204.0</td>\n",
       "      <td>87.0</td>\n",
       "      <td>15034938</td>\n",
       "      <td>...</td>\n",
       "      <td>2.0</td>\n",
       "      <td>0.0</td>\n",
       "      <td>0.0</td>\n",
       "      <td>2.0</td>\n",
       "      <td>0.0</td>\n",
       "      <td>3.0</td>\n",
       "      <td>0.0</td>\n",
       "      <td>18.0</td>\n",
       "      <td>6.0</td>\n",
       "      <td>0</td>\n",
       "    </tr>\n",
       "    <tr>\n",
       "      <th>4</th>\n",
       "      <td>W</td>\n",
       "      <td>16132</td>\n",
       "      <td>111.0</td>\n",
       "      <td>150.0</td>\n",
       "      <td>visa</td>\n",
       "      <td>226.0</td>\n",
       "      <td>debit</td>\n",
       "      <td>220.0</td>\n",
       "      <td>87.0</td>\n",
       "      <td>14680707</td>\n",
       "      <td>...</td>\n",
       "      <td>2.0</td>\n",
       "      <td>0.0</td>\n",
       "      <td>0.0</td>\n",
       "      <td>1.0</td>\n",
       "      <td>0.0</td>\n",
       "      <td>1.0</td>\n",
       "      <td>0.0</td>\n",
       "      <td>28.0</td>\n",
       "      <td>1.0</td>\n",
       "      <td>0</td>\n",
       "    </tr>\n",
       "  </tbody>\n",
       "</table>\n",
       "<p>5 rows × 26 columns</p>\n",
       "</div>"
      ],
      "text/plain": [
       "  ProductCD  card1  card2  card3       card4  card5   card6     addr1  \\\n",
       "0         C   5812  408.0  185.0  mastercard  224.0   debit  NotFound   \n",
       "1         W  12577  268.0  150.0        visa  166.0   debit     123.0   \n",
       "2         H  12581  453.0  150.0        visa  226.0   debit     272.0   \n",
       "3         W   8139  327.0  150.0    discover  194.0  credit     204.0   \n",
       "4         W  16132  111.0  150.0        visa  226.0   debit     220.0   \n",
       "\n",
       "      addr2  TransactionDT  ...    C6   C7   C8    C9  C10    C11  C12    C13  \\\n",
       "0  NotFound       11844610  ...   1.0  1.0  1.0   0.0  0.0    1.0  1.0    1.0   \n",
       "1      87.0       12274010  ...  94.0  0.0  0.0  85.0  0.0  104.0  0.0  457.0   \n",
       "2      87.0        1343827  ...   1.0  0.0  1.0   0.0  1.0    1.0  0.0    1.0   \n",
       "3      87.0       15034938  ...   2.0  0.0  0.0   2.0  0.0    3.0  0.0   18.0   \n",
       "4      87.0       14680707  ...   2.0  0.0  0.0   1.0  0.0    1.0  0.0   28.0   \n",
       "\n",
       "     C14  isFraud  \n",
       "0    1.0        0  \n",
       "1  120.0        0  \n",
       "2    1.0        0  \n",
       "3    6.0        0  \n",
       "4    1.0        0  \n",
       "\n",
       "[5 rows x 26 columns]"
      ]
     },
     "execution_count": 24,
     "metadata": {},
     "output_type": "execute_result"
    }
   ],
   "source": [
    "df.head()"
   ]
  },
  {
   "cell_type": "code",
   "execution_count": 25,
   "id": "44b36c2c",
   "metadata": {},
   "outputs": [
    {
     "name": "stdout",
     "output_type": "stream",
     "text": [
      "['NotFound' 'american express' 'discover' 'mastercard' 'visa']\n",
      "[  1269   6638   5350 151030 308145]\n"
     ]
    }
   ],
   "source": [
    "card4_values, card4_counts = np.unique(df['card4'], return_counts=True)\n",
    "\n",
    "print(card4_values)\n",
    "print(card4_counts)"
   ]
  },
  {
   "cell_type": "code",
   "execution_count": 26,
   "id": "01448bfc",
   "metadata": {},
   "outputs": [
    {
     "data": {
      "text/plain": [
       "(472432,)"
      ]
     },
     "execution_count": 26,
     "metadata": {},
     "output_type": "execute_result"
    }
   ],
   "source": [
    "df['card4'].shape"
   ]
  },
  {
   "cell_type": "code",
   "execution_count": 37,
   "id": "26da47f1",
   "metadata": {},
   "outputs": [
    {
     "name": "stdout",
     "output_type": "stream",
     "text": [
      "['NotFound' 'charge card' 'credit' 'debit' 'debit or credit']\n",
      "[  1261     11 119134 352003     23]\n"
     ]
    }
   ],
   "source": [
    "card6_values, card6_counts = np.unique(df['card6'], return_counts=True)\n",
    "\n",
    "print(card6_values)\n",
    "print(card6_counts)"
   ]
  },
  {
   "cell_type": "code",
   "execution_count": 42,
   "id": "4485dd18",
   "metadata": {},
   "outputs": [
    {
     "name": "stdout",
     "output_type": "stream",
     "text": [
      "['C' 'H' 'R' 'S' 'W']\n",
      "[ 54643  26489  30111   9328 351861]\n"
     ]
    }
   ],
   "source": [
    "productCD_values, productCD_counts = np.unique( df['ProductCD'], return_counts=True)\n",
    "\n",
    "print(productCD_values)\n",
    "print(productCD_counts)"
   ]
  },
  {
   "cell_type": "code",
   "execution_count": 29,
   "id": "33198434",
   "metadata": {},
   "outputs": [
    {
     "name": "stdout",
     "output_type": "stream",
     "text": [
      "304\n",
      "304\n"
     ]
    }
   ],
   "source": [
    "addr1_values, addr1_counts = np.unique(df['addr1'], return_counts=True)\n",
    "\n",
    "print(len(addr1_values))\n",
    "print(len(addr1_counts)) "
   ]
  },
  {
   "cell_type": "code",
   "execution_count": 36,
   "id": "c1f62ed8",
   "metadata": {},
   "outputs": [
    {
     "name": "stdout",
     "output_type": "stream",
     "text": [
      "72\n",
      "72\n"
     ]
    }
   ],
   "source": [
    "addr2_values, addr2_counts = np.unique(df['addr2'], return_counts=True)\n",
    "\n",
    "print(len(addr2_values))\n",
    "print(len(addr2_counts)) "
   ]
  },
  {
   "cell_type": "code",
   "execution_count": 31,
   "id": "eecb3041",
   "metadata": {},
   "outputs": [
    {
     "data": {
      "text/plain": [
       "array(['100.0', '101.0', '102.0', '104.0', '105.0', '106.0', '110.0',\n",
       "       '111.0', '112.0', '113.0', '117.0', '119.0', '122.0', '123.0',\n",
       "       '124.0', '125.0', '126.0', '128.0', '130.0', '131.0', '132.0',\n",
       "       '133.0', '134.0', '137.0', '139.0', '141.0', '142.0', '143.0',\n",
       "       '144.0', '145.0', '146.0', '148.0', '151.0', '152.0', '154.0',\n",
       "       '155.0', '157.0', '158.0', '159.0', '160.0', '161.0', '162.0',\n",
       "       '163.0', '164.0', '166.0', '167.0', '168.0', '170.0', '171.0',\n",
       "       '172.0', '174.0', '177.0', '178.0', '181.0', '182.0', '183.0',\n",
       "       '184.0', '189.0', '190.0', '191.0', '193.0', '194.0', '195.0',\n",
       "       '196.0', '198.0', '199.0', '200.0', '201.0', '202.0', '203.0',\n",
       "       '204.0', '205.0', '206.0', '208.0', '210.0', '213.0', '214.0',\n",
       "       '215.0', '216.0', '217.0', '218.0', '219.0', '220.0', '221.0',\n",
       "       '224.0', '225.0', '226.0', '231.0', '232.0', '234.0', '235.0',\n",
       "       '236.0', '237.0', '239.0', '241.0', '242.0', '243.0', '245.0',\n",
       "       '247.0', '248.0', '249.0', '250.0', '251.0', '252.0', '253.0',\n",
       "       '254.0', '257.0', '258.0', '259.0', '260.0', '261.0', '262.0',\n",
       "       '264.0', '265.0', '268.0', '269.0', '270.0', '272.0', '274.0',\n",
       "       '275.0', '276.0', '277.0', '278.0', '282.0', '283.0', '284.0',\n",
       "       '286.0', '290.0', '292.0', '294.0', '295.0', '296.0', '297.0',\n",
       "       '298.0', '299.0', '300.0', '301.0', '302.0', '303.0', '305.0',\n",
       "       '306.0', '307.0', '308.0', '309.0', '310.0', '312.0', '313.0',\n",
       "       '314.0', '315.0', '316.0', '321.0', '322.0', '323.0', '324.0',\n",
       "       '325.0', '326.0', '327.0', '328.0', '329.0', '330.0', '331.0',\n",
       "       '332.0', '333.0', '335.0', '337.0', '338.0', '339.0', '340.0',\n",
       "       '341.0', '343.0', '345.0', '346.0', '347.0', '348.0', '349.0',\n",
       "       '351.0', '352.0', '353.0', '356.0', '358.0', '359.0', '360.0',\n",
       "       '361.0', '365.0', '366.0', '368.0', '369.0', '371.0', '373.0',\n",
       "       '374.0', '375.0', '376.0', '377.0', '379.0', '381.0', '382.0',\n",
       "       '384.0', '385.0', '386.0', '387.0', '389.0', '391.0', '393.0',\n",
       "       '395.0', '396.0', '397.0', '399.0', '400.0', '401.0', '402.0',\n",
       "       '403.0', '404.0', '406.0', '408.0', '409.0', '410.0', '411.0',\n",
       "       '416.0', '417.0', '418.0', '420.0', '426.0', '427.0', '428.0',\n",
       "       '429.0', '430.0', '431.0', '432.0', '433.0', '435.0', '436.0',\n",
       "       '439.0', '441.0', '443.0', '444.0', '445.0', '446.0', '448.0',\n",
       "       '450.0', '451.0', '452.0', '453.0', '454.0', '456.0', '457.0',\n",
       "       '458.0', '459.0', '464.0', '465.0', '466.0', '467.0', '468.0',\n",
       "       '469.0', '470.0', '471.0', '472.0', '474.0', '476.0', '477.0',\n",
       "       '478.0', '479.0', '481.0', '482.0', '483.0', '485.0', '486.0',\n",
       "       '488.0', '489.0', '491.0', '492.0', '494.0', '496.0', '498.0',\n",
       "       '499.0', '501.0', '502.0', '503.0', '504.0', '505.0', '507.0',\n",
       "       '508.0', '509.0', '511.0', '512.0', '513.0', '514.0', '515.0',\n",
       "       '516.0', '517.0', '518.0', '520.0', '521.0', '522.0', '523.0',\n",
       "       '526.0', '527.0', '528.0', '529.0', '530.0', '531.0', '535.0',\n",
       "       '536.0', '540.0', 'NotFound'], dtype=object)"
      ]
     },
     "execution_count": 31,
     "metadata": {},
     "output_type": "execute_result"
    }
   ],
   "source": [
    "addr1_values"
   ]
  },
  {
   "cell_type": "code",
   "execution_count": 33,
   "id": "65524e13",
   "metadata": {},
   "outputs": [
    {
     "data": {
      "text/plain": [
       "('NotFound', '100.0')"
      ]
     },
     "execution_count": 33,
     "metadata": {},
     "output_type": "execute_result"
    }
   ],
   "source": [
    "np.max(addr1_values), np.min(addr1_values)"
   ]
  },
  {
   "cell_type": "code",
   "execution_count": 34,
   "id": "6231c6cb",
   "metadata": {},
   "outputs": [
    {
     "data": {
      "text/plain": [
       "array(['10.0', '100.0', '101.0', '102.0', '13.0', '14.0', '15.0', '16.0',\n",
       "       '17.0', '18.0', '19.0', '20.0', '21.0', '22.0', '23.0', '24.0',\n",
       "       '26.0', '27.0', '28.0', '29.0', '30.0', '31.0', '32.0', '34.0',\n",
       "       '35.0', '36.0', '38.0', '39.0', '40.0', '43.0', '44.0', '46.0',\n",
       "       '47.0', '48.0', '49.0', '50.0', '51.0', '52.0', '54.0', '55.0',\n",
       "       '57.0', '59.0', '60.0', '61.0', '62.0', '63.0', '65.0', '66.0',\n",
       "       '68.0', '69.0', '70.0', '71.0', '72.0', '73.0', '74.0', '76.0',\n",
       "       '77.0', '78.0', '79.0', '82.0', '84.0', '86.0', '87.0', '88.0',\n",
       "       '89.0', '92.0', '93.0', '94.0', '96.0', '97.0', '98.0', 'NotFound'],\n",
       "      dtype=object)"
      ]
     },
     "execution_count": 34,
     "metadata": {},
     "output_type": "execute_result"
    }
   ],
   "source": [
    "addr2_values"
   ]
  },
  {
   "cell_type": "code",
   "execution_count": 35,
   "id": "85c2b6ba",
   "metadata": {},
   "outputs": [
    {
     "data": {
      "text/plain": [
       "('NotFound', '10.0')"
      ]
     },
     "execution_count": 35,
     "metadata": {},
     "output_type": "execute_result"
    }
   ],
   "source": [
    "np.max(addr2_values) , np.min(addr2_values)"
   ]
  },
  {
   "cell_type": "code",
   "execution_count": 46,
   "id": "f5fcb5be",
   "metadata": {},
   "outputs": [
    {
     "data": {
      "text/html": [
       "<div>\n",
       "<style scoped>\n",
       "    .dataframe tbody tr th:only-of-type {\n",
       "        vertical-align: middle;\n",
       "    }\n",
       "\n",
       "    .dataframe tbody tr th {\n",
       "        vertical-align: top;\n",
       "    }\n",
       "\n",
       "    .dataframe thead th {\n",
       "        text-align: right;\n",
       "    }\n",
       "</style>\n",
       "<table border=\"1\" class=\"dataframe\">\n",
       "  <thead>\n",
       "    <tr style=\"text-align: right;\">\n",
       "      <th></th>\n",
       "      <th>ProductCD</th>\n",
       "      <th>card4</th>\n",
       "      <th>card6</th>\n",
       "      <th>isFraud</th>\n",
       "    </tr>\n",
       "  </thead>\n",
       "  <tbody>\n",
       "    <tr>\n",
       "      <th>0</th>\n",
       "      <td>C</td>\n",
       "      <td>mastercard</td>\n",
       "      <td>debit</td>\n",
       "      <td>0</td>\n",
       "    </tr>\n",
       "    <tr>\n",
       "      <th>1</th>\n",
       "      <td>W</td>\n",
       "      <td>visa</td>\n",
       "      <td>debit</td>\n",
       "      <td>0</td>\n",
       "    </tr>\n",
       "    <tr>\n",
       "      <th>2</th>\n",
       "      <td>H</td>\n",
       "      <td>visa</td>\n",
       "      <td>debit</td>\n",
       "      <td>0</td>\n",
       "    </tr>\n",
       "    <tr>\n",
       "      <th>3</th>\n",
       "      <td>W</td>\n",
       "      <td>discover</td>\n",
       "      <td>credit</td>\n",
       "      <td>0</td>\n",
       "    </tr>\n",
       "    <tr>\n",
       "      <th>4</th>\n",
       "      <td>W</td>\n",
       "      <td>visa</td>\n",
       "      <td>debit</td>\n",
       "      <td>0</td>\n",
       "    </tr>\n",
       "    <tr>\n",
       "      <th>...</th>\n",
       "      <td>...</td>\n",
       "      <td>...</td>\n",
       "      <td>...</td>\n",
       "      <td>...</td>\n",
       "    </tr>\n",
       "    <tr>\n",
       "      <th>472427</th>\n",
       "      <td>W</td>\n",
       "      <td>mastercard</td>\n",
       "      <td>credit</td>\n",
       "      <td>0</td>\n",
       "    </tr>\n",
       "    <tr>\n",
       "      <th>472428</th>\n",
       "      <td>W</td>\n",
       "      <td>mastercard</td>\n",
       "      <td>debit</td>\n",
       "      <td>0</td>\n",
       "    </tr>\n",
       "    <tr>\n",
       "      <th>472429</th>\n",
       "      <td>W</td>\n",
       "      <td>visa</td>\n",
       "      <td>debit</td>\n",
       "      <td>0</td>\n",
       "    </tr>\n",
       "    <tr>\n",
       "      <th>472430</th>\n",
       "      <td>W</td>\n",
       "      <td>visa</td>\n",
       "      <td>debit</td>\n",
       "      <td>0</td>\n",
       "    </tr>\n",
       "    <tr>\n",
       "      <th>472431</th>\n",
       "      <td>H</td>\n",
       "      <td>visa</td>\n",
       "      <td>credit</td>\n",
       "      <td>0</td>\n",
       "    </tr>\n",
       "  </tbody>\n",
       "</table>\n",
       "<p>472432 rows × 4 columns</p>\n",
       "</div>"
      ],
      "text/plain": [
       "       ProductCD       card4   card6  isFraud\n",
       "0              C  mastercard   debit        0\n",
       "1              W        visa   debit        0\n",
       "2              H        visa   debit        0\n",
       "3              W    discover  credit        0\n",
       "4              W        visa   debit        0\n",
       "...          ...         ...     ...      ...\n",
       "472427         W  mastercard  credit        0\n",
       "472428         W  mastercard   debit        0\n",
       "472429         W        visa   debit        0\n",
       "472430         W        visa   debit        0\n",
       "472431         H        visa  credit        0\n",
       "\n",
       "[472432 rows x 4 columns]"
      ]
     },
     "execution_count": 46,
     "metadata": {},
     "output_type": "execute_result"
    }
   ],
   "source": [
    "\"\"\"\n",
    "Consider the following discrete values to create a dataset\n",
    "\n",
    "    'ProductCD', 'card4', 'card6'\n",
    "\n",
    "and create a dataset w/ target label and only this list of features \n",
    "\n",
    "\"\"\"\n",
    "\n",
    "df[['ProductCD', 'card4', 'card6', 'isFraud']]"
   ]
  },
  {
   "cell_type": "code",
   "execution_count": 50,
   "id": "a4bf3138",
   "metadata": {},
   "outputs": [
    {
     "name": "stdout",
     "output_type": "stream",
     "text": [
      "[0 1] \n",
      " [455902  16530]\n"
     ]
    }
   ],
   "source": [
    "isFraud_values, isFraud_counts = np.unique(df['isFraud'], return_counts=True)\n",
    "\n",
    "print(isFraud_values, '\\n', isFraud_counts)"
   ]
  },
  {
   "cell_type": "code",
   "execution_count": 51,
   "id": "6ae8bac7",
   "metadata": {},
   "outputs": [],
   "source": [
    "df[['ProductCD', 'card4', 'card6', 'isFraud']].to_csv('test_data_1.csv', index=False)"
   ]
  },
  {
   "cell_type": "code",
   "execution_count": 52,
   "id": "a1638282",
   "metadata": {},
   "outputs": [
    {
     "data": {
      "text/plain": [
       "27.580278281911674"
      ]
     },
     "execution_count": 52,
     "metadata": {},
     "output_type": "execute_result"
    }
   ],
   "source": [
    "isFraud_counts[0] / isFraud_counts[1]"
   ]
  },
  {
   "cell_type": "code",
   "execution_count": null,
   "id": "b8e47346",
   "metadata": {},
   "outputs": [],
   "source": []
  }
 ],
 "metadata": {
  "kernelspec": {
   "display_name": "Python 3 (ipykernel)",
   "language": "python",
   "name": "python3"
  },
  "language_info": {
   "codemirror_mode": {
    "name": "ipython",
    "version": 3
   },
   "file_extension": ".py",
   "mimetype": "text/x-python",
   "name": "python",
   "nbconvert_exporter": "python",
   "pygments_lexer": "ipython3",
   "version": "3.11.5"
  }
 },
 "nbformat": 4,
 "nbformat_minor": 5
}
