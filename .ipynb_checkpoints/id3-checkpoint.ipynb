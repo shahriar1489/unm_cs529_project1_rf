{
 "cells": [
  {
   "cell_type": "code",
   "execution_count": 164,
   "id": "9388e74a",
   "metadata": {},
   "outputs": [],
   "source": [
    "#!/usr/bin/env python3\n",
    "# -*- coding: utf-8 -*-\n",
    "\"\"\"\n",
    "Created on Sun Feb 18 12:11:08 2024\n",
    "\n",
    "@author: shahriar\n",
    "\"\"\"\n",
    "\n",
    "import numpy as np \n",
    "import pandas as pd\n",
    "import matplotlib.pyplot as plt \n",
    "\n",
    "\n",
    "import os\n",
    "import time \n",
    "\n",
    "\n",
    "import sys\n",
    "\n",
    "# Arithmetic \n",
    "from fractions import Fraction\n",
    "from decimal import Decimal\n"
   ]
  },
  {
   "cell_type": "code",
   "execution_count": null,
   "id": "fd5ed5eb",
   "metadata": {},
   "outputs": [],
   "source": []
  },
  {
   "cell_type": "code",
   "execution_count": 165,
   "id": "309aca2b",
   "metadata": {},
   "outputs": [],
   "source": [
    "class ID3: \n",
    "    \n",
    "    def __init__(self):\n",
    "        self.counter = 0 \n",
    "        self.tree = []\n",
    "    \n",
    "    def run(self, df, attributes):\n",
    "        \n",
    "        print('-----------------------------')\n",
    "        print('-----run method called -----')\n",
    "        print('counter : ', self.counter)\n",
    "        print('df :\\n' , df)\n",
    "        print('attributes :\\n', attributes)\n",
    "            \n",
    "        self.counter = self.counter + 1 \n",
    "        \n",
    "        if self.counter == 2: \n",
    "            return \n",
    "        \n",
    "        \n",
    "        \"\"\"\n",
    "        \n",
    "        Parameters\n",
    "        ----------\n",
    "        examples : training examples\n",
    "        \n",
    "        target_attribute : attriburte whose value is to be predicted by tree \n",
    "            \n",
    "        attributes : list of other attributes to be tested \n",
    "\n",
    "        Returns\n",
    "        -------\n",
    "        Returns a decision tree that correctly classsifies the examples\n",
    "\n",
    "        \"\"\"\n",
    "            \n",
    "        examples = df.iloc[:, 0:-1]\n",
    "        target_attribute = df.iloc[:, -1]\n",
    "        attributes = attributes \n",
    "        \n",
    "        # 1. create  a root for the tree\n",
    "        root = [] \n",
    "        \n",
    "        # 2 and 3. All examples have same label -> return single node with that label\n",
    "        target_values, target_counts = np.unique(target_attribute, return_counts=True)\n",
    "        \n",
    "        if len(target_values) ==1: \n",
    "            return root, target_values[0] # I am not sure how this will look  \n",
    "        \n",
    "        # 4.attributes is empty \n",
    "            # then return single-node tree root, \n",
    "            # with most common label in target_attribute in examples\n",
    "        \n",
    "        if len(attributes) == 0: \n",
    "            # Find the most frequent target value\n",
    "            target_value, target_count = np.unique(target_attribute, return_counts=True)\n",
    "            most_frequent_value = target_value[np.argmax(target_count)]\n",
    "            \n",
    "            return root, most_frequent_value\n",
    "        \n",
    "        # 5. Do this - this is where is information gain is calculated \n",
    "        \"\"\"\n",
    "        Find the information_gain for each attribute to decide the best att\n",
    "        \n",
    "        - A is the variable with the best attribute that best classifies the examples \n",
    "        - examples_vi \n",
    "        - \n",
    "        \n",
    "        \"\"\"\n",
    "        \n",
    "        A = None # This is th attribute with the highest info gain \n",
    "        \n",
    "        highest_info_gain = float('-inf')\n",
    "        \n",
    "        for a in attributes: # find the attribute with the highest information gain \n",
    "            \n",
    "            \"\"\"\n",
    "            There needs to be a methods to decide if the attribute is discrete or continuous.\n",
    "            For now, assume all are discrete. \n",
    "            \"\"\"\n",
    "            \n",
    "            #info_gain = self.information_gain( examples[a], target_attribute, 'entropy') # examples is pd df\n",
    "            \n",
    "            print('----------------------------')\n",
    "            print('\\t\\t\\tDEBUGGING KEY ERROR in info gain for disc attr')\n",
    "            display('\\t\\texamples[a]', examples[a])\n",
    "            display('\\t\\ttarget_attribute ', target_attribute)\n",
    "            \n",
    "            print('----------------------------')\n",
    "                   \n",
    "            \n",
    "            info_gain = self.information_gain_for_discrete_attribute(examples[a], \n",
    "                                                                     target_attribute, \n",
    "                                                                     impurity='entropy')        \n",
    "            \n",
    "            if info_gain > highest_info_gain: \n",
    "                A = a\n",
    "                highest_info_gain = info_gain \n",
    "        \n",
    "        # set root to A \n",
    "        root.append(A) \n",
    "\n",
    "        print('root : ', root)\n",
    "        print('highest_info_gain : ', highest_info_gain)\n",
    "        #sys.exit()\n",
    "        \n",
    "        \n",
    "        # get the unique values in A - all the possible values the attribute may have \n",
    "        \n",
    "        vi_list_np = np.unique(examples[A]) # examples is pandas df\n",
    "        vi_with_root = [] \n",
    "        \n",
    "        \n",
    "        print('vi_list_np : ', vi_list_np)\n",
    "        print('vi_with_root : ', vi_with_root)\n",
    "        \n",
    "        \n",
    "        vi_count = 0 \n",
    "            \n",
    "        \n",
    "        for vi in vi_list_np : \n",
    "\n",
    "            vi_count = vi_count+1 # where/why am I using this?  \n",
    "            \n",
    "            # Add a new branch below root, corresponding to the test A = v_i \n",
    "            #vi_with_root.append(A+'->'+vi) # a list \n",
    "            #root.append( vi_with_root )\n",
    "            root.append(A+'->'+str(vi))\n",
    "            \n",
    "            \"\"\"\n",
    "            See how root looks. \n",
    "            \"\"\"\n",
    "            \n",
    "            print('root after adding attr values : ', root)\n",
    "            \n",
    "            print('----\\n\\n')\n",
    "            \n",
    "            \n",
    "            examples_vi  = examples[ examples[A] == vi ].drop(columns=A) # works \n",
    "            \n",
    "            \n",
    "            # If examples_vi is empty : What I understand from this is that there is not tuple \n",
    "            \"\"\"\n",
    "            When examples_vi is empty, it means there is not tuple. But, \n",
    "            \"\"\"\n",
    "            \n",
    "            \n",
    "            if examples_vi.empty: \n",
    "                \n",
    "                # Then below this new branch add a leaf node with label = most common value of Target_attribute in Examples\n",
    "                target_value, target_count = np.unique(target_attribute, return_counts=True)\n",
    "                most_frequent_value = target_value[np.argmax(target_count)]\n",
    "                \n",
    "                return root, most_frequent_value       \n",
    "            \n",
    "            else:  \n",
    "                \"\"\"\n",
    "                change this to recursive run call \n",
    "                \"\"\"\n",
    "                print('------------------------------------------')\n",
    "                print('attributes before removing : ', attributes)\n",
    "                #attributes.remove(A)\n",
    "                \n",
    "                print('attribute A to be removed : ', A)\n",
    "                \n",
    "                \n",
    "                attributes.remove(A)\n",
    "                print('attributes after removing : ', attributes)\n",
    "                \n",
    "                \n",
    "                print('------------------------------------------')\n",
    "                \n",
    "                print('------------------------------------------')\n",
    "                \n",
    "                \n",
    "                \n",
    "                \n",
    "                self.run(examples_vi, attributes) # remove not in list error \n",
    "                \n",
    "                \n",
    "                print()\n",
    "                \n",
    "                \n",
    "                print('------')\n",
    "                print('vi : ', vi )\n",
    "                \n",
    "                \n",
    "            vi_with_root = [] \n",
    "            \n",
    "            \n",
    "            \"\"\"\n",
    "            I am thinking of using dictionary as for the mean branching an attribute\n",
    "            \n",
    "            - Root is a list\n",
    "            \n",
    "            \"\"\"\n",
    "        \n",
    "        print('root, out of the loop : ', root)\n",
    "        #sys.exit(0)    \n",
    "        #A = None \n",
    "        #examples_vi = [] #None \n",
    "        \n",
    "        #branches = [] # the branches of the tree\n",
    "        \n",
    "        \n",
    "        #if len( branches_vi) == 0: \n",
    "            # Then below this new branch add a  leaf node with label = most common value of Target_attribute in Examples\n",
    "        \n",
    "        \n",
    "        #else:  # below this new branch add the subtree \n",
    "        #    ID3( examples_vi,  target_attribute, )            \n",
    "    \n",
    "      \n",
    "        \n",
    "    def compute_impurity_by_label(self, attribute, impurity='gini'): # Impurity of the total dataset : DONE\n",
    "        \n",
    "        \"\"\"\n",
    "        FEATURES: \n",
    "        \n",
    "        attribute : pandas df\n",
    "            the column whose entropy is to be calculated\n",
    "        \n",
    "        impurity : string \n",
    "            the impurity measure used- gini or entropty \n",
    "        \n",
    "        \n",
    "        Returns \n",
    "            np real scalar number \n",
    "        \"\"\"\n",
    "        \n",
    "    \n",
    "        # get the total number of instances/rows in the dataset\n",
    "        N = attribute.shape[0]\n",
    "        \n",
    "        #print('\\t\\t Number of rows in attribute param:', N)\n",
    "        #sys.exit(0)\n",
    "    \n",
    "        # get the count\n",
    "        label_values, label_counts = np.unique(attribute, return_counts=True)\n",
    "        label_fractions = []\n",
    "    \n",
    "    \n",
    "        # get the fractions for the each of the labels- better to use loop be cause there can be more than two labels\n",
    "    \n",
    "        for count in label_counts :\n",
    "            #print(Decimal(count/N)) \n",
    "            \n",
    "            result_float = float( count/ Decimal(N) )\n",
    "            \n",
    "            label_fractions.append( result_float  )\n",
    "    \n",
    "    \n",
    "        #print('\\t\\tlabel_fractions: ',label_fractions)\n",
    "        \n",
    "        label_fractions = np.array( label_fractions )\n",
    "        #print('\\t\\tDifferent label values collected: ', label_values)\n",
    "        #print('\\t\\tDifferent label counts colleceted: ', label_counts)\n",
    "        #print('\\t\\tFractions of different labels: ', label_fractions)\n",
    "    \n",
    "    \n",
    "        # write a subroutine for entropy\n",
    "        if impurity=='entropy':\n",
    "            \n",
    "            return -np.sum(  label_fractions * np.log2(label_fractions) )\n",
    "                  \n",
    "    \n",
    "        # write a subroutine for gini\n",
    "        elif impurity=='gini':  \n",
    "    \n",
    "          return 1 - np.sum(  np.square( label_fractions )   ) # 1 - sum of elementwise fraction #This returns the complete gini\n",
    "    \n",
    "    \n",
    "        else :\n",
    "    \n",
    "            print(\"ERROR: impurity metric can be either of gini or entropy.\")\n",
    "            return -1 \n",
    "        \n",
    "        \n",
    "    def information_gain_for_discrete_attribute(self, examples_a, target_attribute, impurity='entropy'): # 02/28/2024 This stays. Fix this \n",
    "        \"\"\"\n",
    "\n",
    "        Parameters\n",
    "        ----------\n",
    "        examples_a : the attribute column whose feature is to be calculated \n",
    "            type: Pandas Series \n",
    "            \n",
    "        target_attribute : attribute whose value is to be predicted by tree \n",
    "            type: Pandas Series  \n",
    "        \n",
    "        attribute : attribute/column name for examples_a\n",
    "            type: string\n",
    "        \n",
    "        impurity_measure : gini/entropy \n",
    "            type: string\n",
    "\n",
    "        Returns\n",
    "        -------\n",
    "        scalar real number  \n",
    "            \n",
    "        \n",
    "        \n",
    "        self.information_gain( examples[a], target_attribute, 'entropy') # examples is pd df\n",
    "\n",
    "        \"\"\"\n",
    "        \n",
    "        #impurity_for_target_attribute = self.compute_impurity_for_discrete_attribute(target_attribute, impurity=impurity)\n",
    "        \n",
    "        \n",
    "        # get the unique values in examples_a\n",
    "        examples_a_values = np.unique(examples_a)\n",
    "        \n",
    "        N = examples_a.shape[0]\n",
    "        \n",
    "        result = self.compute_impurity_by_label(  attribute=target_attribute , impurity=impurity)\n",
    "        \n",
    "        #print( '\\t\\t\\tresult after initialization : ', result) # ok \n",
    "        \n",
    "        #sys.exit(0)\n",
    "        for a in examples_a_values: \n",
    "            \n",
    "            # get the subset of examples_a and corresponding tuple in target_attribute\n",
    "            #examples_a[attribute]\n",
    "            #print( examples_a[examples_a==a])\n",
    "            #print('-----')\n",
    "            #print('feature subset shape:\\n', examples_a[examples_a==a].shape)\n",
    "            #print('-----')\n",
    "            \n",
    "            #print( 'target subset shape:\\n', target_attribute[examples_a==a].shape )\n",
    "        \n",
    "            \n",
    "            #examples_a_subset = np.array( examples_a[examples_a==a] ) \n",
    "            \"\"\"\n",
    "            I don't need the line above rn\n",
    "            \"\"\"\n",
    "            \n",
    "            \n",
    "            #target_a_subset = np.array( target_attribute[examples_a==a] ) # converting to np for faster computation\n",
    "            \n",
    "            n = target_attribute[examples_a==a].shape[0]\n",
    "            #compute_impurity_by_label(  np.array( target_attribute[examples_a==a] ), impurity=impurity)\n",
    "            \n",
    "            \n",
    "            prob_float = float( n/ Decimal(N) )\n",
    "            \n",
    "            \n",
    "            impurity_a = self.compute_impurity_by_label( attribute=target_attribute[examples_a==a] , \n",
    "                                                        impurity=impurity) * prob_float\n",
    "            \n",
    "            result = result - impurity_a\n",
    "            \n",
    "            #print('\\t\\t---------------\\t\\t\\n')\n",
    "            \n",
    "            \n",
    "            \n",
    "            #print('\\t\\t\\t--- final info gain : ', result )\n",
    "            \n",
    "        return result # returns a scalar real number         \n",
    "    \n",
    "    "
   ]
  },
  {
   "cell_type": "code",
   "execution_count": 166,
   "id": "67fa3e5e",
   "metadata": {},
   "outputs": [
    {
     "name": "stdout",
     "output_type": "stream",
     "text": [
      "tree.py\n",
      ".DS_Store\n",
      "test_data_1.csv\n",
      "Untitled.ipynb\n",
      "id3.ipynb\n",
      "test.csv\n",
      "README.md\n",
      "discrete_attribute_test.py\n",
      "PlayTennis.csv\n",
      "train.csv\n",
      ".ipynb_checkpoints\n",
      ".git\n",
      "Data\n",
      "test.ipynb\n"
     ]
    }
   ],
   "source": [
    "# Get the current directory\n",
    "current_dir = os.getcwd()\n",
    "\n",
    "# List all files and folders in the current directory\n",
    "files_and_folders = os.listdir(current_dir)\n",
    "\n",
    "# Print the list\n",
    "for item in files_and_folders:\n",
    "    print(item)"
   ]
  },
  {
   "cell_type": "code",
   "execution_count": 167,
   "id": "8e1670ae",
   "metadata": {},
   "outputs": [],
   "source": [
    "df_tennis = pd.read_csv('PlayTennis.csv')"
   ]
  },
  {
   "cell_type": "code",
   "execution_count": 168,
   "id": "809f3aa6",
   "metadata": {},
   "outputs": [
    {
     "data": {
      "text/plain": [
       "(array(['no', 'yes'], dtype=object), array([5, 9]))"
      ]
     },
     "execution_count": 168,
     "metadata": {},
     "output_type": "execute_result"
    }
   ],
   "source": [
    "np.unique( df_tennis.play, return_counts=True) "
   ]
  },
  {
   "cell_type": "code",
   "execution_count": 169,
   "id": "c58480cb",
   "metadata": {},
   "outputs": [
    {
     "data": {
      "text/plain": [
       "'\\nTest different stages of ID3 on Play Tennis Dataset\\n\\n'"
      ]
     },
     "execution_count": 169,
     "metadata": {},
     "output_type": "execute_result"
    }
   ],
   "source": [
    "\"\"\"\n",
    "Test different stages of ID3 on Play Tennis Dataset\n",
    "\n",
    "\"\"\"\n",
    "\n",
    "\n"
   ]
  },
  {
   "cell_type": "code",
   "execution_count": 170,
   "id": "8b09fe4b",
   "metadata": {},
   "outputs": [
    {
     "data": {
      "text/plain": [
       "Index(['outlook', 'temp', 'humidity', 'windy', 'play'], dtype='object')"
      ]
     },
     "execution_count": 170,
     "metadata": {},
     "output_type": "execute_result"
    }
   ],
   "source": [
    "df_tennis.columns"
   ]
  },
  {
   "cell_type": "code",
   "execution_count": 171,
   "id": "10d5dc66",
   "metadata": {},
   "outputs": [
    {
     "data": {
      "text/html": [
       "<div>\n",
       "<style scoped>\n",
       "    .dataframe tbody tr th:only-of-type {\n",
       "        vertical-align: middle;\n",
       "    }\n",
       "\n",
       "    .dataframe tbody tr th {\n",
       "        vertical-align: top;\n",
       "    }\n",
       "\n",
       "    .dataframe thead th {\n",
       "        text-align: right;\n",
       "    }\n",
       "</style>\n",
       "<table border=\"1\" class=\"dataframe\">\n",
       "  <thead>\n",
       "    <tr style=\"text-align: right;\">\n",
       "      <th></th>\n",
       "      <th>outlook</th>\n",
       "      <th>temp</th>\n",
       "      <th>humidity</th>\n",
       "      <th>windy</th>\n",
       "      <th>play</th>\n",
       "    </tr>\n",
       "  </thead>\n",
       "  <tbody>\n",
       "    <tr>\n",
       "      <th>0</th>\n",
       "      <td>sunny</td>\n",
       "      <td>hot</td>\n",
       "      <td>high</td>\n",
       "      <td>False</td>\n",
       "      <td>no</td>\n",
       "    </tr>\n",
       "    <tr>\n",
       "      <th>1</th>\n",
       "      <td>sunny</td>\n",
       "      <td>hot</td>\n",
       "      <td>high</td>\n",
       "      <td>True</td>\n",
       "      <td>no</td>\n",
       "    </tr>\n",
       "    <tr>\n",
       "      <th>2</th>\n",
       "      <td>overcast</td>\n",
       "      <td>hot</td>\n",
       "      <td>high</td>\n",
       "      <td>False</td>\n",
       "      <td>yes</td>\n",
       "    </tr>\n",
       "    <tr>\n",
       "      <th>3</th>\n",
       "      <td>rainy</td>\n",
       "      <td>mild</td>\n",
       "      <td>high</td>\n",
       "      <td>False</td>\n",
       "      <td>yes</td>\n",
       "    </tr>\n",
       "    <tr>\n",
       "      <th>4</th>\n",
       "      <td>rainy</td>\n",
       "      <td>cool</td>\n",
       "      <td>normal</td>\n",
       "      <td>False</td>\n",
       "      <td>yes</td>\n",
       "    </tr>\n",
       "    <tr>\n",
       "      <th>5</th>\n",
       "      <td>rainy</td>\n",
       "      <td>cool</td>\n",
       "      <td>normal</td>\n",
       "      <td>True</td>\n",
       "      <td>no</td>\n",
       "    </tr>\n",
       "    <tr>\n",
       "      <th>6</th>\n",
       "      <td>overcast</td>\n",
       "      <td>cool</td>\n",
       "      <td>normal</td>\n",
       "      <td>True</td>\n",
       "      <td>yes</td>\n",
       "    </tr>\n",
       "    <tr>\n",
       "      <th>7</th>\n",
       "      <td>sunny</td>\n",
       "      <td>mild</td>\n",
       "      <td>high</td>\n",
       "      <td>False</td>\n",
       "      <td>no</td>\n",
       "    </tr>\n",
       "    <tr>\n",
       "      <th>8</th>\n",
       "      <td>sunny</td>\n",
       "      <td>cool</td>\n",
       "      <td>normal</td>\n",
       "      <td>False</td>\n",
       "      <td>yes</td>\n",
       "    </tr>\n",
       "    <tr>\n",
       "      <th>9</th>\n",
       "      <td>rainy</td>\n",
       "      <td>mild</td>\n",
       "      <td>normal</td>\n",
       "      <td>False</td>\n",
       "      <td>yes</td>\n",
       "    </tr>\n",
       "    <tr>\n",
       "      <th>10</th>\n",
       "      <td>sunny</td>\n",
       "      <td>mild</td>\n",
       "      <td>normal</td>\n",
       "      <td>True</td>\n",
       "      <td>yes</td>\n",
       "    </tr>\n",
       "    <tr>\n",
       "      <th>11</th>\n",
       "      <td>overcast</td>\n",
       "      <td>mild</td>\n",
       "      <td>high</td>\n",
       "      <td>True</td>\n",
       "      <td>yes</td>\n",
       "    </tr>\n",
       "    <tr>\n",
       "      <th>12</th>\n",
       "      <td>overcast</td>\n",
       "      <td>hot</td>\n",
       "      <td>normal</td>\n",
       "      <td>False</td>\n",
       "      <td>yes</td>\n",
       "    </tr>\n",
       "    <tr>\n",
       "      <th>13</th>\n",
       "      <td>rainy</td>\n",
       "      <td>mild</td>\n",
       "      <td>high</td>\n",
       "      <td>True</td>\n",
       "      <td>no</td>\n",
       "    </tr>\n",
       "  </tbody>\n",
       "</table>\n",
       "</div>"
      ],
      "text/plain": [
       "     outlook  temp humidity  windy play\n",
       "0      sunny   hot     high  False   no\n",
       "1      sunny   hot     high   True   no\n",
       "2   overcast   hot     high  False  yes\n",
       "3      rainy  mild     high  False  yes\n",
       "4      rainy  cool   normal  False  yes\n",
       "5      rainy  cool   normal   True   no\n",
       "6   overcast  cool   normal   True  yes\n",
       "7      sunny  mild     high  False   no\n",
       "8      sunny  cool   normal  False  yes\n",
       "9      rainy  mild   normal  False  yes\n",
       "10     sunny  mild   normal   True  yes\n",
       "11  overcast  mild     high   True  yes\n",
       "12  overcast   hot   normal  False  yes\n",
       "13     rainy  mild     high   True   no"
      ]
     },
     "execution_count": 171,
     "metadata": {},
     "output_type": "execute_result"
    }
   ],
   "source": [
    "columns = ['outlook', 'temp', 'humidity', 'windy', 'play']\n",
    "attributes = ['outlook', 'temp', 'humidity', 'windy',] \n",
    "df_tennis\n",
    "\n"
   ]
  },
  {
   "cell_type": "code",
   "execution_count": 172,
   "id": "0f4be9c5",
   "metadata": {},
   "outputs": [
    {
     "data": {
      "text/plain": [
       "(14, 5)"
      ]
     },
     "execution_count": 172,
     "metadata": {},
     "output_type": "execute_result"
    }
   ],
   "source": [
    "df_tennis.shape"
   ]
  },
  {
   "cell_type": "code",
   "execution_count": 173,
   "id": "c533c60c",
   "metadata": {},
   "outputs": [
    {
     "data": {
      "text/plain": [
       "pandas.core.frame.DataFrame"
      ]
     },
     "execution_count": 173,
     "metadata": {},
     "output_type": "execute_result"
    }
   ],
   "source": [
    "type(df_tennis)"
   ]
  },
  {
   "cell_type": "code",
   "execution_count": null,
   "id": "87c55a41",
   "metadata": {},
   "outputs": [],
   "source": []
  },
  {
   "cell_type": "code",
   "execution_count": null,
   "id": "b797bf7b",
   "metadata": {},
   "outputs": [],
   "source": []
  },
  {
   "cell_type": "code",
   "execution_count": null,
   "id": "91d8a30b",
   "metadata": {},
   "outputs": [],
   "source": []
  },
  {
   "cell_type": "code",
   "execution_count": 174,
   "id": "d6bedc64",
   "metadata": {},
   "outputs": [
    {
     "data": {
      "text/html": [
       "<div>\n",
       "<style scoped>\n",
       "    .dataframe tbody tr th:only-of-type {\n",
       "        vertical-align: middle;\n",
       "    }\n",
       "\n",
       "    .dataframe tbody tr th {\n",
       "        vertical-align: top;\n",
       "    }\n",
       "\n",
       "    .dataframe thead th {\n",
       "        text-align: right;\n",
       "    }\n",
       "</style>\n",
       "<table border=\"1\" class=\"dataframe\">\n",
       "  <thead>\n",
       "    <tr style=\"text-align: right;\">\n",
       "      <th></th>\n",
       "      <th>outlook</th>\n",
       "      <th>temp</th>\n",
       "      <th>humidity</th>\n",
       "      <th>windy</th>\n",
       "      <th>play</th>\n",
       "    </tr>\n",
       "  </thead>\n",
       "  <tbody>\n",
       "    <tr>\n",
       "      <th>0</th>\n",
       "      <td>sunny</td>\n",
       "      <td>hot</td>\n",
       "      <td>high</td>\n",
       "      <td>False</td>\n",
       "      <td>no</td>\n",
       "    </tr>\n",
       "    <tr>\n",
       "      <th>1</th>\n",
       "      <td>sunny</td>\n",
       "      <td>hot</td>\n",
       "      <td>high</td>\n",
       "      <td>True</td>\n",
       "      <td>no</td>\n",
       "    </tr>\n",
       "    <tr>\n",
       "      <th>2</th>\n",
       "      <td>overcast</td>\n",
       "      <td>hot</td>\n",
       "      <td>high</td>\n",
       "      <td>False</td>\n",
       "      <td>yes</td>\n",
       "    </tr>\n",
       "    <tr>\n",
       "      <th>3</th>\n",
       "      <td>rainy</td>\n",
       "      <td>mild</td>\n",
       "      <td>high</td>\n",
       "      <td>False</td>\n",
       "      <td>yes</td>\n",
       "    </tr>\n",
       "    <tr>\n",
       "      <th>4</th>\n",
       "      <td>rainy</td>\n",
       "      <td>cool</td>\n",
       "      <td>normal</td>\n",
       "      <td>False</td>\n",
       "      <td>yes</td>\n",
       "    </tr>\n",
       "    <tr>\n",
       "      <th>5</th>\n",
       "      <td>rainy</td>\n",
       "      <td>cool</td>\n",
       "      <td>normal</td>\n",
       "      <td>True</td>\n",
       "      <td>no</td>\n",
       "    </tr>\n",
       "    <tr>\n",
       "      <th>6</th>\n",
       "      <td>overcast</td>\n",
       "      <td>cool</td>\n",
       "      <td>normal</td>\n",
       "      <td>True</td>\n",
       "      <td>yes</td>\n",
       "    </tr>\n",
       "    <tr>\n",
       "      <th>7</th>\n",
       "      <td>sunny</td>\n",
       "      <td>mild</td>\n",
       "      <td>high</td>\n",
       "      <td>False</td>\n",
       "      <td>no</td>\n",
       "    </tr>\n",
       "    <tr>\n",
       "      <th>8</th>\n",
       "      <td>sunny</td>\n",
       "      <td>cool</td>\n",
       "      <td>normal</td>\n",
       "      <td>False</td>\n",
       "      <td>yes</td>\n",
       "    </tr>\n",
       "    <tr>\n",
       "      <th>9</th>\n",
       "      <td>rainy</td>\n",
       "      <td>mild</td>\n",
       "      <td>normal</td>\n",
       "      <td>False</td>\n",
       "      <td>yes</td>\n",
       "    </tr>\n",
       "    <tr>\n",
       "      <th>10</th>\n",
       "      <td>sunny</td>\n",
       "      <td>mild</td>\n",
       "      <td>normal</td>\n",
       "      <td>True</td>\n",
       "      <td>yes</td>\n",
       "    </tr>\n",
       "    <tr>\n",
       "      <th>11</th>\n",
       "      <td>overcast</td>\n",
       "      <td>mild</td>\n",
       "      <td>high</td>\n",
       "      <td>True</td>\n",
       "      <td>yes</td>\n",
       "    </tr>\n",
       "    <tr>\n",
       "      <th>12</th>\n",
       "      <td>overcast</td>\n",
       "      <td>hot</td>\n",
       "      <td>normal</td>\n",
       "      <td>False</td>\n",
       "      <td>yes</td>\n",
       "    </tr>\n",
       "    <tr>\n",
       "      <th>13</th>\n",
       "      <td>rainy</td>\n",
       "      <td>mild</td>\n",
       "      <td>high</td>\n",
       "      <td>True</td>\n",
       "      <td>no</td>\n",
       "    </tr>\n",
       "  </tbody>\n",
       "</table>\n",
       "</div>"
      ],
      "text/plain": [
       "     outlook  temp humidity  windy play\n",
       "0      sunny   hot     high  False   no\n",
       "1      sunny   hot     high   True   no\n",
       "2   overcast   hot     high  False  yes\n",
       "3      rainy  mild     high  False  yes\n",
       "4      rainy  cool   normal  False  yes\n",
       "5      rainy  cool   normal   True   no\n",
       "6   overcast  cool   normal   True  yes\n",
       "7      sunny  mild     high  False   no\n",
       "8      sunny  cool   normal  False  yes\n",
       "9      rainy  mild   normal  False  yes\n",
       "10     sunny  mild   normal   True  yes\n",
       "11  overcast  mild     high   True  yes\n",
       "12  overcast   hot   normal  False  yes\n",
       "13     rainy  mild     high   True   no"
      ]
     },
     "metadata": {},
     "output_type": "display_data"
    },
    {
     "name": "stdout",
     "output_type": "stream",
     "text": [
      "---------------------------------\n"
     ]
    },
    {
     "data": {
      "text/plain": [
       "outlook     object\n",
       "temp        object\n",
       "humidity    object\n",
       "windy       object\n",
       "play        object\n",
       "dtype: object"
      ]
     },
     "metadata": {},
     "output_type": "display_data"
    }
   ],
   "source": [
    "df_tennis = pd.read_csv('PlayTennis.csv')\n",
    "\n",
    "display(df_tennis)\n",
    "print('---------------------------------')\n",
    "df_tennis['windy'] = df_tennis['windy'].astype(str)\n",
    "display(df_tennis.dtypes)"
   ]
  },
  {
   "cell_type": "code",
   "execution_count": 175,
   "id": "7730a677",
   "metadata": {},
   "outputs": [],
   "source": [
    "attributes = ['outlook', 'temp', 'humidity', 'windy',]"
   ]
  },
  {
   "cell_type": "code",
   "execution_count": 176,
   "id": "620ae595",
   "metadata": {},
   "outputs": [],
   "source": [
    "#attributes.remove('outlook') # this is an in-place operation "
   ]
  },
  {
   "cell_type": "code",
   "execution_count": 177,
   "id": "da1f4662",
   "metadata": {},
   "outputs": [],
   "source": [
    "#attributes"
   ]
  },
  {
   "cell_type": "code",
   "execution_count": 178,
   "id": "00058386",
   "metadata": {},
   "outputs": [],
   "source": [
    "#type(attributes.remove('temp'))"
   ]
  },
  {
   "cell_type": "code",
   "execution_count": 179,
   "id": "fd658d93",
   "metadata": {},
   "outputs": [
    {
     "data": {
      "text/plain": [
       "['outlook', 'temp', 'humidity', 'windy']"
      ]
     },
     "execution_count": 179,
     "metadata": {},
     "output_type": "execute_result"
    }
   ],
   "source": [
    "attributes"
   ]
  },
  {
   "cell_type": "code",
   "execution_count": 180,
   "id": "8a7ceb2a",
   "metadata": {},
   "outputs": [
    {
     "data": {
      "text/plain": [
       "outlook     object\n",
       "temp        object\n",
       "humidity    object\n",
       "windy       object\n",
       "play        object\n",
       "dtype: object"
      ]
     },
     "execution_count": 180,
     "metadata": {},
     "output_type": "execute_result"
    }
   ],
   "source": [
    "df_tennis.dtypes"
   ]
  },
  {
   "cell_type": "code",
   "execution_count": 181,
   "id": "a6f43781",
   "metadata": {},
   "outputs": [
    {
     "name": "stdout",
     "output_type": "stream",
     "text": [
      "-----------------------------\n",
      "-----run method called -----\n",
      "counter :  0\n",
      "df :\n",
      "      outlook  temp humidity  windy play\n",
      "0      sunny   hot     high  False   no\n",
      "1      sunny   hot     high   True   no\n",
      "2   overcast   hot     high  False  yes\n",
      "3      rainy  mild     high  False  yes\n",
      "4      rainy  cool   normal  False  yes\n",
      "5      rainy  cool   normal   True   no\n",
      "6   overcast  cool   normal   True  yes\n",
      "7      sunny  mild     high  False   no\n",
      "8      sunny  cool   normal  False  yes\n",
      "9      rainy  mild   normal  False  yes\n",
      "10     sunny  mild   normal   True  yes\n",
      "11  overcast  mild     high   True  yes\n",
      "12  overcast   hot   normal  False  yes\n",
      "13     rainy  mild     high   True   no\n",
      "attributes :\n",
      " ['outlook', 'temp', 'humidity', 'windy']\n",
      "----------------------------\n",
      "\t\t\tDEBUGGING KEY ERROR in info gain for disc attr\n"
     ]
    },
    {
     "data": {
      "text/plain": [
       "'\\t\\texamples[a]'"
      ]
     },
     "metadata": {},
     "output_type": "display_data"
    },
    {
     "data": {
      "text/plain": [
       "0        sunny\n",
       "1        sunny\n",
       "2     overcast\n",
       "3        rainy\n",
       "4        rainy\n",
       "5        rainy\n",
       "6     overcast\n",
       "7        sunny\n",
       "8        sunny\n",
       "9        rainy\n",
       "10       sunny\n",
       "11    overcast\n",
       "12    overcast\n",
       "13       rainy\n",
       "Name: outlook, dtype: object"
      ]
     },
     "metadata": {},
     "output_type": "display_data"
    },
    {
     "data": {
      "text/plain": [
       "'\\t\\ttarget_attribute '"
      ]
     },
     "metadata": {},
     "output_type": "display_data"
    },
    {
     "data": {
      "text/plain": [
       "0      no\n",
       "1      no\n",
       "2     yes\n",
       "3     yes\n",
       "4     yes\n",
       "5      no\n",
       "6     yes\n",
       "7      no\n",
       "8     yes\n",
       "9     yes\n",
       "10    yes\n",
       "11    yes\n",
       "12    yes\n",
       "13     no\n",
       "Name: play, dtype: object"
      ]
     },
     "metadata": {},
     "output_type": "display_data"
    },
    {
     "name": "stdout",
     "output_type": "stream",
     "text": [
      "----------------------------\n",
      "----------------------------\n",
      "\t\t\tDEBUGGING KEY ERROR in info gain for disc attr\n"
     ]
    },
    {
     "data": {
      "text/plain": [
       "'\\t\\texamples[a]'"
      ]
     },
     "metadata": {},
     "output_type": "display_data"
    },
    {
     "data": {
      "text/plain": [
       "0      hot\n",
       "1      hot\n",
       "2      hot\n",
       "3     mild\n",
       "4     cool\n",
       "5     cool\n",
       "6     cool\n",
       "7     mild\n",
       "8     cool\n",
       "9     mild\n",
       "10    mild\n",
       "11    mild\n",
       "12     hot\n",
       "13    mild\n",
       "Name: temp, dtype: object"
      ]
     },
     "metadata": {},
     "output_type": "display_data"
    },
    {
     "data": {
      "text/plain": [
       "'\\t\\ttarget_attribute '"
      ]
     },
     "metadata": {},
     "output_type": "display_data"
    },
    {
     "data": {
      "text/plain": [
       "0      no\n",
       "1      no\n",
       "2     yes\n",
       "3     yes\n",
       "4     yes\n",
       "5      no\n",
       "6     yes\n",
       "7      no\n",
       "8     yes\n",
       "9     yes\n",
       "10    yes\n",
       "11    yes\n",
       "12    yes\n",
       "13     no\n",
       "Name: play, dtype: object"
      ]
     },
     "metadata": {},
     "output_type": "display_data"
    },
    {
     "name": "stdout",
     "output_type": "stream",
     "text": [
      "----------------------------\n",
      "----------------------------\n",
      "\t\t\tDEBUGGING KEY ERROR in info gain for disc attr\n"
     ]
    },
    {
     "data": {
      "text/plain": [
       "'\\t\\texamples[a]'"
      ]
     },
     "metadata": {},
     "output_type": "display_data"
    },
    {
     "data": {
      "text/plain": [
       "0       high\n",
       "1       high\n",
       "2       high\n",
       "3       high\n",
       "4     normal\n",
       "5     normal\n",
       "6     normal\n",
       "7       high\n",
       "8     normal\n",
       "9     normal\n",
       "10    normal\n",
       "11      high\n",
       "12    normal\n",
       "13      high\n",
       "Name: humidity, dtype: object"
      ]
     },
     "metadata": {},
     "output_type": "display_data"
    },
    {
     "data": {
      "text/plain": [
       "'\\t\\ttarget_attribute '"
      ]
     },
     "metadata": {},
     "output_type": "display_data"
    },
    {
     "data": {
      "text/plain": [
       "0      no\n",
       "1      no\n",
       "2     yes\n",
       "3     yes\n",
       "4     yes\n",
       "5      no\n",
       "6     yes\n",
       "7      no\n",
       "8     yes\n",
       "9     yes\n",
       "10    yes\n",
       "11    yes\n",
       "12    yes\n",
       "13     no\n",
       "Name: play, dtype: object"
      ]
     },
     "metadata": {},
     "output_type": "display_data"
    },
    {
     "name": "stdout",
     "output_type": "stream",
     "text": [
      "----------------------------\n",
      "----------------------------\n",
      "\t\t\tDEBUGGING KEY ERROR in info gain for disc attr\n"
     ]
    },
    {
     "data": {
      "text/plain": [
       "'\\t\\texamples[a]'"
      ]
     },
     "metadata": {},
     "output_type": "display_data"
    },
    {
     "data": {
      "text/plain": [
       "0     False\n",
       "1      True\n",
       "2     False\n",
       "3     False\n",
       "4     False\n",
       "5      True\n",
       "6      True\n",
       "7     False\n",
       "8     False\n",
       "9     False\n",
       "10     True\n",
       "11     True\n",
       "12    False\n",
       "13     True\n",
       "Name: windy, dtype: object"
      ]
     },
     "metadata": {},
     "output_type": "display_data"
    },
    {
     "data": {
      "text/plain": [
       "'\\t\\ttarget_attribute '"
      ]
     },
     "metadata": {},
     "output_type": "display_data"
    },
    {
     "data": {
      "text/plain": [
       "0      no\n",
       "1      no\n",
       "2     yes\n",
       "3     yes\n",
       "4     yes\n",
       "5      no\n",
       "6     yes\n",
       "7      no\n",
       "8     yes\n",
       "9     yes\n",
       "10    yes\n",
       "11    yes\n",
       "12    yes\n",
       "13     no\n",
       "Name: play, dtype: object"
      ]
     },
     "metadata": {},
     "output_type": "display_data"
    },
    {
     "name": "stdout",
     "output_type": "stream",
     "text": [
      "----------------------------\n",
      "root :  ['outlook']\n",
      "highest_info_gain :  0.24674981977443933\n",
      "vi_list_np :  ['overcast' 'rainy' 'sunny']\n",
      "vi_with_root :  []\n",
      "root after adding attr values :  ['outlook', 'outlook->overcast']\n",
      "----\n",
      "\n",
      "\n",
      "------------------------------------------\n",
      "attributes before removing :  ['outlook', 'temp', 'humidity', 'windy']\n",
      "attribute A to be removed :  outlook\n",
      "attributes after removing :  ['temp', 'humidity', 'windy']\n",
      "------------------------------------------\n",
      "\n",
      "-----------------------------\n",
      "-----run method called -----\n",
      "counter :  1\n",
      "df :\n",
      "     temp humidity  windy\n",
      "2    hot     high  False\n",
      "6   cool   normal   True\n",
      "11  mild     high   True\n",
      "12   hot   normal  False\n",
      "attributes :\n",
      " ['temp', 'humidity', 'windy']\n",
      "\n",
      "------\n",
      "vi :  overcast\n",
      "root after adding attr values :  ['outlook', 'outlook->overcast', 'outlook->rainy']\n",
      "----\n",
      "\n",
      "\n",
      "------------------------------------------\n",
      "attributes before removing :  ['temp', 'humidity', 'windy']\n",
      "attribute A to be removed :  outlook\n"
     ]
    },
    {
     "ename": "ValueError",
     "evalue": "list.remove(x): x not in list",
     "output_type": "error",
     "traceback": [
      "\u001b[0;31m---------------------------------------------------------------------------\u001b[0m",
      "\u001b[0;31mValueError\u001b[0m                                Traceback (most recent call last)",
      "Cell \u001b[0;32mIn[181], line 2\u001b[0m\n\u001b[1;32m      1\u001b[0m tree \u001b[38;5;241m=\u001b[39m ID3()\n\u001b[0;32m----> 2\u001b[0m tree\u001b[38;5;241m.\u001b[39mrun(df_tennis, attributes)\n",
      "Cell \u001b[0;32mIn[165], line 176\u001b[0m, in \u001b[0;36mID3.run\u001b[0;34m(self, df, attributes)\u001b[0m\n\u001b[1;32m    171\u001b[0m \u001b[38;5;66;03m#attributes.remove(A)\u001b[39;00m\n\u001b[1;32m    173\u001b[0m \u001b[38;5;28mprint\u001b[39m(\u001b[38;5;124m'\u001b[39m\u001b[38;5;124mattribute A to be removed : \u001b[39m\u001b[38;5;124m'\u001b[39m, A)\n\u001b[0;32m--> 176\u001b[0m attributes\u001b[38;5;241m.\u001b[39mremove(A)\n\u001b[1;32m    177\u001b[0m \u001b[38;5;28mprint\u001b[39m(\u001b[38;5;124m'\u001b[39m\u001b[38;5;124mattributes after removing : \u001b[39m\u001b[38;5;124m'\u001b[39m, attributes)\n\u001b[1;32m    180\u001b[0m \u001b[38;5;28mprint\u001b[39m(\u001b[38;5;124m'\u001b[39m\u001b[38;5;124m------------------------------------------\u001b[39m\u001b[38;5;124m'\u001b[39m)\n",
      "\u001b[0;31mValueError\u001b[0m: list.remove(x): x not in list"
     ]
    }
   ],
   "source": [
    "tree = ID3()\n",
    "tree.run(df_tennis, attributes)"
   ]
  },
  {
   "cell_type": "code",
   "execution_count": null,
   "id": "77118ed2",
   "metadata": {},
   "outputs": [],
   "source": [
    "df_tennis"
   ]
  },
  {
   "cell_type": "code",
   "execution_count": null,
   "id": "9ea35d48",
   "metadata": {},
   "outputs": [],
   "source": []
  },
  {
   "cell_type": "code",
   "execution_count": null,
   "id": "db358bf6",
   "metadata": {},
   "outputs": [],
   "source": []
  }
 ],
 "metadata": {
  "kernelspec": {
   "display_name": "Python 3 (ipykernel)",
   "language": "python",
   "name": "python3"
  },
  "language_info": {
   "codemirror_mode": {
    "name": "ipython",
    "version": 3
   },
   "file_extension": ".py",
   "mimetype": "text/x-python",
   "name": "python",
   "nbconvert_exporter": "python",
   "pygments_lexer": "ipython3",
   "version": "3.11.5"
  }
 },
 "nbformat": 4,
 "nbformat_minor": 5
}
