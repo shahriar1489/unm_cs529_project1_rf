{
 "cells": [
  {
   "cell_type": "code",
   "execution_count": 17,
   "id": "eabccbee",
   "metadata": {},
   "outputs": [],
   "source": [
    "import numpy as np \n",
    "import pandas as pd \n",
    "import matplotlib.pyplot as plt "
   ]
  },
  {
   "cell_type": "code",
   "execution_count": 18,
   "id": "cacc900e",
   "metadata": {},
   "outputs": [
    {
     "name": "stdout",
     "output_type": "stream",
     "text": [
      "Maximum occurring index: 2\n",
      "Maximum occurring value: 2\n"
     ]
    }
   ],
   "source": [
    "import numpy as np\n",
    "\n",
    "# Example column vector\n",
    "column_vector = np.array([1, 2, 3, 2, 2, 4, 5, 2])\n",
    "\n",
    "# Find the index of the maximum occurring value\n",
    "max_index = np.argmax(np.bincount(column_vector))\n",
    "\n",
    "\n",
    "# Get the maximum occurring value\n",
    "max_value = np.bincount(column_vector).argmax()\n",
    "\n",
    "print(\"Maximum occurring index:\", max_index)\n",
    "print(\"Maximum occurring value:\", max_value)\n"
   ]
  },
  {
   "cell_type": "code",
   "execution_count": 19,
   "id": "bf9fe971",
   "metadata": {},
   "outputs": [
    {
     "data": {
      "text/plain": [
       "2"
      ]
     },
     "execution_count": 19,
     "metadata": {},
     "output_type": "execute_result"
    }
   ],
   "source": [
    "np.argmax(np.bincount(column_vector))"
   ]
  },
  {
   "cell_type": "code",
   "execution_count": 20,
   "id": "b82cc2db",
   "metadata": {},
   "outputs": [
    {
     "data": {
      "text/plain": [
       "'\\nimport numpy as np\\n\\n# Create a NumPy array representing the column vector\\ndata = np.array([222,222,222,222,222,222,222,222, 1, 1, 0, 1, 1, 0, 0, 1])\\n\\n# Find the most frequent target value\\ntarget_value, target_count = np.unique(data, return_counts=True)\\nmost_frequent_value = target_value[np.argmax(target_count)]\\n\\n\\n\\n\\n\\n\\nprint(\"The most frequent value is:\", most_frequent_value)\\n'"
      ]
     },
     "execution_count": 20,
     "metadata": {},
     "output_type": "execute_result"
    }
   ],
   "source": [
    "\"\"\"\n",
    "import numpy as np\n",
    "\n",
    "# Create a NumPy array representing the column vector\n",
    "data = np.array([222,222,222,222,222,222,222,222, 1, 1, 0, 1, 1, 0, 0, 1])\n",
    "\n",
    "# Find the most frequent target value\n",
    "target_value, target_count = np.unique(data, return_counts=True)\n",
    "most_frequent_value = target_value[np.argmax(target_count)]\n",
    "\n",
    "\n",
    "\n",
    "\n",
    "\n",
    "\n",
    "print(\"The most frequent value is:\", most_frequent_value)\n",
    "\"\"\"\n"
   ]
  },
  {
   "cell_type": "code",
   "execution_count": 21,
   "id": "e7dc9874",
   "metadata": {},
   "outputs": [],
   "source": [
    "#label_value"
   ]
  },
  {
   "cell_type": "code",
   "execution_count": 22,
   "id": "87dcf58c",
   "metadata": {},
   "outputs": [],
   "source": [
    "#label_count"
   ]
  },
  {
   "cell_type": "code",
   "execution_count": 24,
   "id": "942fbf65",
   "metadata": {},
   "outputs": [],
   "source": [
    "#np.argmax(label_count) # return index number "
   ]
  },
  {
   "cell_type": "code",
   "execution_count": 25,
   "id": "1d258894",
   "metadata": {},
   "outputs": [
    {
     "name": "stdout",
     "output_type": "stream",
     "text": [
      "1\n",
      "2\n",
      "3\n",
      "4\n",
      "5\n",
      "6\n"
     ]
    }
   ],
   "source": [
    "import numpy as np\n",
    "\n",
    "arr = np.array([[1, 2, 3], [4, 5, 6]])\n",
    "\n",
    "for row in arr:\n",
    "    for element in row:\n",
    "        print(element)"
   ]
  },
  {
   "cell_type": "code",
   "execution_count": 26,
   "id": "1a2c60b6",
   "metadata": {},
   "outputs": [
    {
     "name": "stdout",
     "output_type": "stream",
     "text": [
      "2\n",
      "4\n",
      "6\n",
      "8\n"
     ]
    }
   ],
   "source": [
    "for i in np.array([2, 4, 6, 8]): \n",
    "    print(i)"
   ]
  },
  {
   "cell_type": "code",
   "execution_count": 40,
   "id": "f06559c5",
   "metadata": {},
   "outputs": [],
   "source": [
    "def compute_impurity_by_label(attribute, impurity='gini'): # Impurity of the total dataset : DONE\n",
    "        \n",
    "        \"\"\"\n",
    "        \n",
    "        attribute : pandas df\n",
    "            the column whose entropy is to be calculated\n",
    "        \n",
    "        impurity : string \n",
    "            the impurity measure used- gini or entropty \n",
    "        \n",
    "        \"\"\"\n",
    "            \n",
    "        \n",
    "    \n",
    "        # get the total number of instances/rows in the dataset\n",
    "        N = attribute.shape()[0]\n",
    "    \n",
    "        # get the count\n",
    "        label_values, label_counts = np.unique(attribute, return_counts=True)\n",
    "        label_fractions = []\n",
    "    \n",
    "        # get the fractions for the each of the labels- better to use loop be cause there can be more than two labels\n",
    "    \n",
    "        for count in label_counts :\n",
    "          label_fractions.append(count/N)\n",
    "    \n",
    "        label_fractions = np.array( label_fractions )\n",
    "    \n",
    "    \n",
    "        # write a subroutine for entropy\n",
    "        if impurity=='entropy':\n",
    "    \n",
    "          #result = np.sum( label_fractions )\n",
    "    \n",
    "          return  - np.sum ( label_fractions * np.log2(  label_fractions ) ) # This returns the complete entropy \n",
    "    \n",
    "        # write a subroutine for gini\n",
    "        elif impurity=='gini':\n",
    "    \n",
    "          return 1 - np.sum(  np.square( label_fractions )   ) # 1 - sum of elementwise fraction #This returns the complete gini\n",
    "    \n",
    "        else :\n",
    "          print(\"ERROR: impurity metric can be either of gini or entropy.\")\n",
    "          return -1"
   ]
  },
  {
   "cell_type": "code",
   "execution_count": 41,
   "id": "5da0abbb",
   "metadata": {},
   "outputs": [
    {
     "name": "stdout",
     "output_type": "stream",
     "text": [
      "  attribute\n",
      "0         C\n",
      "1         C\n",
      "2         C\n",
      "3         D\n",
      "4         C\n"
     ]
    }
   ],
   "source": [
    "# Define the discrete values\n",
    "discrete_values = ['A', 'B', 'C', 'D']\n",
    "\n",
    "# Generate the test data\n",
    "test_data = pd.DataFrame({'attribute': np.random.choice(discrete_values, size=100)})\n",
    "\n",
    "print(test_data.head())\n",
    "\n",
    "\n"
   ]
  },
  {
   "cell_type": "code",
   "execution_count": 42,
   "id": "bcfafe62",
   "metadata": {},
   "outputs": [
    {
     "data": {
      "text/plain": [
       "(100, 1)"
      ]
     },
     "execution_count": 42,
     "metadata": {},
     "output_type": "execute_result"
    }
   ],
   "source": [
    "test_data.shape"
   ]
  },
  {
   "cell_type": "code",
   "execution_count": 45,
   "id": "94d9891b",
   "metadata": {},
   "outputs": [
    {
     "data": {
      "text/plain": [
       "Index(['attribute'], dtype='object')"
      ]
     },
     "execution_count": 45,
     "metadata": {},
     "output_type": "execute_result"
    }
   ],
   "source": [
    "test_data.columns"
   ]
  },
  {
   "cell_type": "code",
   "execution_count": null,
   "id": "c1b80bca",
   "metadata": {},
   "outputs": [],
   "source": []
  },
  {
   "cell_type": "code",
   "execution_count": null,
   "id": "ec17f234",
   "metadata": {},
   "outputs": [],
   "source": []
  }
 ],
 "metadata": {
  "kernelspec": {
   "display_name": "Python 3 (ipykernel)",
   "language": "python",
   "name": "python3"
  },
  "language_info": {
   "codemirror_mode": {
    "name": "ipython",
    "version": 3
   },
   "file_extension": ".py",
   "mimetype": "text/x-python",
   "name": "python",
   "nbconvert_exporter": "python",
   "pygments_lexer": "ipython3",
   "version": "3.11.5"
  }
 },
 "nbformat": 4,
 "nbformat_minor": 5
}
