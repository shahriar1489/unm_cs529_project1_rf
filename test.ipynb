{
 "cells": [
  {
   "cell_type": "code",
   "execution_count": 4,
   "id": "a5e53365",
   "metadata": {},
   "outputs": [],
   "source": [
    "import numpy as np \n",
    "import pandas as pd \n",
    "import matplotlib.pyplot as plt \n",
    "\n",
    "\n",
    "import sys\n",
    "\n",
    "# Arithmetic \n",
    "import math\n",
    "from fractions import Fraction\n",
    "from decimal import Decimal\n"
   ]
  },
  {
   "cell_type": "code",
   "execution_count": 5,
   "id": "cacc900e",
   "metadata": {},
   "outputs": [
    {
     "name": "stdout",
     "output_type": "stream",
     "text": [
      "Maximum occurring index: 2\n",
      "Maximum occurring value: 2\n"
     ]
    }
   ],
   "source": [
    "import numpy as np\n",
    "\n",
    "# Example column vector\n",
    "column_vector = np.array([1, 2, 3, 2, 2, 4, 5, 2])\n",
    "\n",
    "# Find the index of the maximum occurring value\n",
    "max_index = np.argmax(np.bincount(column_vector))\n",
    "\n",
    "\n",
    "# Get the maximum occurring value\n",
    "max_value = np.bincount(column_vector).argmax()\n",
    "\n",
    "print(\"Maximum occurring index:\", max_index)\n",
    "print(\"Maximum occurring value:\", max_value)\n"
   ]
  },
  {
   "cell_type": "code",
   "execution_count": 6,
   "id": "bf9fe971",
   "metadata": {},
   "outputs": [
    {
     "data": {
      "text/plain": [
       "2"
      ]
     },
     "execution_count": 6,
     "metadata": {},
     "output_type": "execute_result"
    }
   ],
   "source": [
    "np.argmax(np.bincount(column_vector))"
   ]
  },
  {
   "cell_type": "code",
   "execution_count": 7,
   "id": "b82cc2db",
   "metadata": {},
   "outputs": [
    {
     "data": {
      "text/plain": [
       "'\\nimport numpy as np\\n\\n# Create a NumPy array representing the column vector\\ndata = np.array([222,222,222,222,222,222,222,222, 1, 1, 0, 1, 1, 0, 0, 1])\\n\\n# Find the most frequent target value\\ntarget_value, target_count = np.unique(data, return_counts=True)\\nmost_frequent_value = target_value[np.argmax(target_count)]\\n\\n\\n\\n\\n\\n\\nprint(\"The most frequent value is:\", most_frequent_value)\\n'"
      ]
     },
     "execution_count": 7,
     "metadata": {},
     "output_type": "execute_result"
    }
   ],
   "source": [
    "\"\"\"\n",
    "import numpy as np\n",
    "\n",
    "# Create a NumPy array representing the column vector\n",
    "data = np.array([222,222,222,222,222,222,222,222, 1, 1, 0, 1, 1, 0, 0, 1])\n",
    "\n",
    "# Find the most frequent target value\n",
    "target_value, target_count = np.unique(data, return_counts=True)\n",
    "most_frequent_value = target_value[np.argmax(target_count)]\n",
    "\n",
    "\n",
    "\n",
    "\n",
    "\n",
    "\n",
    "print(\"The most frequent value is:\", most_frequent_value)\n",
    "\"\"\"\n"
   ]
  },
  {
   "cell_type": "code",
   "execution_count": 8,
   "id": "e7dc9874",
   "metadata": {},
   "outputs": [],
   "source": [
    "#label_value"
   ]
  },
  {
   "cell_type": "code",
   "execution_count": 9,
   "id": "87dcf58c",
   "metadata": {},
   "outputs": [],
   "source": [
    "#label_count"
   ]
  },
  {
   "cell_type": "code",
   "execution_count": 10,
   "id": "942fbf65",
   "metadata": {},
   "outputs": [],
   "source": [
    "#np.argmax(label_count) # return index number "
   ]
  },
  {
   "cell_type": "code",
   "execution_count": 11,
   "id": "1d258894",
   "metadata": {},
   "outputs": [
    {
     "name": "stdout",
     "output_type": "stream",
     "text": [
      "1\n",
      "2\n",
      "3\n",
      "4\n",
      "5\n",
      "6\n"
     ]
    }
   ],
   "source": [
    "import numpy as np\n",
    "\n",
    "arr = np.array([[1, 2, 3], [4, 5, 6]])\n",
    "\n",
    "for row in arr:\n",
    "    for element in row:\n",
    "        print(element)"
   ]
  },
  {
   "cell_type": "code",
   "execution_count": 12,
   "id": "1a2c60b6",
   "metadata": {},
   "outputs": [
    {
     "name": "stdout",
     "output_type": "stream",
     "text": [
      "2\n",
      "4\n",
      "6\n",
      "8\n"
     ]
    }
   ],
   "source": [
    "for i in np.array([2, 4, 6, 8]): \n",
    "    print(i)"
   ]
  },
  {
   "cell_type": "code",
   "execution_count": 13,
   "id": "f06559c5",
   "metadata": {},
   "outputs": [],
   "source": [
    "def compute_impurity_by_label(attribute, impurity='gini'): # Impurity of the total dataset : DONE\n",
    "        \n",
    "        \"\"\"\n",
    "        FEATURES: \n",
    "        \n",
    "        attribute : pandas df\n",
    "            the column whose entropy is to be calculated\n",
    "        \n",
    "        impurity : string \n",
    "            the impurity measure used- gini or entropty \n",
    "        \n",
    "        \n",
    "        Returns \n",
    "            np real scalar number \n",
    "        \"\"\"\n",
    "        \n",
    "    \n",
    "        # get the total number of instances/rows in the dataset\n",
    "        N = attribute.shape[0]\n",
    "        \n",
    "        print('\\t\\t Number of rows in attribute param:', N)\n",
    "        #sys.exit(0)\n",
    "    \n",
    "        # get the count\n",
    "        label_values, label_counts = np.unique(attribute, return_counts=True)\n",
    "        label_fractions = []\n",
    "    \n",
    "    \n",
    "        # get the fractions for the each of the labels- better to use loop be cause there can be more than two labels\n",
    "    \n",
    "        for count in label_counts :\n",
    "            print(Decimal(count/N)) \n",
    "            \n",
    "            result_float = float( count/ Decimal(N) )\n",
    "            \n",
    "            label_fractions.append( result_float  )\n",
    "    \n",
    "    \n",
    "        print('\\t\\tlabel_fractions: ',label_fractions)\n",
    "        \n",
    "        label_fractions = np.array( label_fractions )\n",
    "        print('\\t\\tDifferent label values collected: ', label_values)\n",
    "        print('\\t\\tDifferent label counts colleceted: ', label_counts)\n",
    "        print('\\t\\tFractions of different labels: ', label_fractions)\n",
    "    \n",
    "    \n",
    "        # write a subroutine for entropy\n",
    "        if impurity=='entropy':\n",
    "            #return  - np.sum ( label_fractions * np.log2(  label_fractions ) ) # This returns the complete entropy \n",
    "            print('-------------\\n\\n\\n')\n",
    "            #print(\"\\t\\t\\tInside impurity=entropy\",  -1 * label_fractions * np.log2(label_fractions) ) \n",
    "    \n",
    "            print(\"-------------\\t\\t\\entropy = \", -np.sum(  label_fractions * np.log2(label_fractions) ) )\n",
    "            \n",
    "            \n",
    "            return -np.sum(  label_fractions * np.log2(label_fractions) )\n",
    "            \n",
    "            \n",
    "            \n",
    "            \n",
    "    \n",
    "        # write a subroutine for gini\n",
    "        elif impurity=='gini':  \n",
    "    \n",
    "          return 1 - np.sum(  np.square( label_fractions )   ) # 1 - sum of elementwise fraction #This returns the complete gini\n",
    "    \n",
    "        else :\n",
    "          print(\"ERROR: impurity metric can be either of gini or entropy.\")\n",
    "          return -1"
   ]
  },
  {
   "cell_type": "code",
   "execution_count": 14,
   "id": "bb88a629",
   "metadata": {},
   "outputs": [
    {
     "name": "stdout",
     "output_type": "stream",
     "text": [
      "  attribute\n",
      "0         B\n",
      "1         B\n",
      "2         B\n",
      "3         B\n",
      "4         B\n"
     ]
    }
   ],
   "source": [
    "# Define the discrete values\n",
    "discrete_values = ['A', 'B']\n",
    "\n",
    "# Generate the test data\n",
    "test_data = pd.DataFrame({'attribute': np.random.choice(discrete_values, size=100)})\n",
    "\n",
    "print(test_data.head())\n",
    "\n",
    "\n"
   ]
  },
  {
   "cell_type": "code",
   "execution_count": 15,
   "id": "1b53ab80",
   "metadata": {},
   "outputs": [
    {
     "data": {
      "text/plain": [
       "(100, 1)"
      ]
     },
     "execution_count": 15,
     "metadata": {},
     "output_type": "execute_result"
    }
   ],
   "source": [
    "test_data.shape"
   ]
  },
  {
   "cell_type": "code",
   "execution_count": 16,
   "id": "2bf2a890",
   "metadata": {},
   "outputs": [
    {
     "data": {
      "text/plain": [
       "Index(['attribute'], dtype='object')"
      ]
     },
     "execution_count": 16,
     "metadata": {},
     "output_type": "execute_result"
    }
   ],
   "source": [
    "test_data.columns"
   ]
  },
  {
   "cell_type": "code",
   "execution_count": 17,
   "id": "7d79620b",
   "metadata": {},
   "outputs": [
    {
     "name": "stdout",
     "output_type": "stream",
     "text": [
      "\t\t Number of rows in attribute param: 100\n",
      "0.54000000000000003552713678800500929355621337890625\n",
      "0.460000000000000019984014443252817727625370025634765625\n",
      "\t\tlabel_fractions:  [0.54, 0.46]\n",
      "\t\tDifferent label values collected:  ['A' 'B']\n",
      "\t\tDifferent label counts colleceted:  [54 46]\n",
      "\t\tFractions of different labels:  [0.54 0.46]\n"
     ]
    },
    {
     "data": {
      "text/plain": [
       "0.4967999999999999"
      ]
     },
     "execution_count": 17,
     "metadata": {},
     "output_type": "execute_result"
    }
   ],
   "source": [
    "compute_impurity_by_label(test_data, impurity='gini')"
   ]
  },
  {
   "cell_type": "code",
   "execution_count": 18,
   "id": "63291a77",
   "metadata": {},
   "outputs": [
    {
     "name": "stdout",
     "output_type": "stream",
     "text": [
      "\t\t Number of rows in attribute param: 100\n",
      "0.54000000000000003552713678800500929355621337890625\n",
      "0.460000000000000019984014443252817727625370025634765625\n",
      "\t\tlabel_fractions:  [0.54, 0.46]\n",
      "\t\tDifferent label values collected:  ['A' 'B']\n",
      "\t\tDifferent label counts colleceted:  [54 46]\n",
      "\t\tFractions of different labels:  [0.54 0.46]\n",
      "-------------\n",
      "\n",
      "\n",
      "\n",
      "-------------\t\t\\entropy =  0.9953784388202257\n"
     ]
    },
    {
     "data": {
      "text/plain": [
       "0.9953784388202257"
      ]
     },
     "execution_count": 18,
     "metadata": {},
     "output_type": "execute_result"
    }
   ],
   "source": [
    "compute_impurity_by_label(test_data, impurity='entropy')"
   ]
  },
  {
   "cell_type": "code",
   "execution_count": 19,
   "id": "cbdd63c8",
   "metadata": {},
   "outputs": [
    {
     "name": "stdout",
     "output_type": "stream",
     "text": [
      "\t\t Number of rows in attribute param: 70\n",
      "0.85714285714285709527615608749329112470149993896484375\n",
      "0.142857142857142849212692681248881854116916656494140625\n",
      "\t\tlabel_fractions:  [0.8571428571428571, 0.14285714285714285]\n",
      "\t\tDifferent label values collected:  ['A' 'B']\n",
      "\t\tDifferent label counts colleceted:  [60 10]\n",
      "\t\tFractions of different labels:  [0.85714286 0.14285714]\n",
      "-------------\n",
      "\n",
      "\n",
      "\n",
      "-------------\t\t\\entropy =  0.5916727785823275\n",
      "entropy:\t 0.5916727785823275\n"
     ]
    }
   ],
   "source": [
    "\"\"\"\n",
    "Issues reported in the compute_impurity_by_label method: \n",
    "\n",
    "    i) entropy is returning more than 1 \n",
    "        \n",
    "        - Proposed solution: \n",
    "            - Use a \n",
    "\n",
    "\n",
    "\n",
    "\"\"\"\n",
    "\n",
    "\n",
    "# Define the labels and their counts\n",
    "labels = ['A'] * 60 + ['B'] * 10 \n",
    "\n",
    "# Shuffle the labels to randomize the order\n",
    "np.random.shuffle(labels)\n",
    "\n",
    "# Create a DataFrame with the labels\n",
    "test_data_2 = pd.DataFrame({'attribute': labels})\n",
    "\n",
    "#print(test_data_2.head())\n",
    "\n",
    "\n",
    "print( 'entropy:\\t',compute_impurity_by_label(test_data_2, impurity='entropy') ) \n",
    "#|print( 'gini:\\t', compute_impurity_by_label(test_data_2, impurity='gini') ) \n",
    "\n",
    "\n",
    "\n",
    "\n"
   ]
  },
  {
   "cell_type": "code",
   "execution_count": 20,
   "id": "cb441368",
   "metadata": {},
   "outputs": [
    {
     "data": {
      "text/plain": [
       "decimal.Decimal"
      ]
     },
     "execution_count": 20,
     "metadata": {},
     "output_type": "execute_result"
    }
   ],
   "source": [
    "type( Decimal(60/100) ) "
   ]
  },
  {
   "cell_type": "code",
   "execution_count": 21,
   "id": "d2183879",
   "metadata": {},
   "outputs": [
    {
     "data": {
      "text/plain": [
       "0.6"
      ]
     },
     "execution_count": 21,
     "metadata": {},
     "output_type": "execute_result"
    }
   ],
   "source": [
    "float( Decimal(60/100) ) "
   ]
  },
  {
   "cell_type": "code",
   "execution_count": 22,
   "id": "ca55f4f8",
   "metadata": {},
   "outputs": [
    {
     "data": {
      "text/plain": [
       "0.442182"
      ]
     },
     "execution_count": 22,
     "metadata": {},
     "output_type": "execute_result"
    }
   ],
   "source": [
    "-0.73697 * -.6"
   ]
  },
  {
   "cell_type": "code",
   "execution_count": 23,
   "id": "f941844f",
   "metadata": {},
   "outputs": [
    {
     "name": "stdout",
     "output_type": "stream",
     "text": [
      "Entropy: 0.9182958340544896\n"
     ]
    }
   ],
   "source": [
    "import numpy as np\n",
    "\n",
    "# Given label counts\n",
    "label_counts = np.array([60,  30])\n",
    "\n",
    "# Total count of labels\n",
    "total_count = np.sum(label_counts)\n",
    "\n",
    "# Calculate probabilities\n",
    "probabilities = label_counts / total_count\n",
    "\n",
    "# Calculate entropy\n",
    "entropy = -np.sum(probabilities * np.log2(probabilities))\n",
    "\n",
    "print(\"Entropy:\", entropy)"
   ]
  },
  {
   "cell_type": "code",
   "execution_count": 24,
   "id": "73a0dde6",
   "metadata": {},
   "outputs": [
    {
     "data": {
      "text/html": [
       "<div>\n",
       "<style scoped>\n",
       "    .dataframe tbody tr th:only-of-type {\n",
       "        vertical-align: middle;\n",
       "    }\n",
       "\n",
       "    .dataframe tbody tr th {\n",
       "        vertical-align: top;\n",
       "    }\n",
       "\n",
       "    .dataframe thead th {\n",
       "        text-align: right;\n",
       "    }\n",
       "</style>\n",
       "<table border=\"1\" class=\"dataframe\">\n",
       "  <thead>\n",
       "    <tr style=\"text-align: right;\">\n",
       "      <th></th>\n",
       "      <th>ProductCD</th>\n",
       "      <th>card4</th>\n",
       "      <th>card6</th>\n",
       "      <th>isFraud</th>\n",
       "    </tr>\n",
       "  </thead>\n",
       "  <tbody>\n",
       "    <tr>\n",
       "      <th>0</th>\n",
       "      <td>C</td>\n",
       "      <td>mastercard</td>\n",
       "      <td>debit</td>\n",
       "      <td>0</td>\n",
       "    </tr>\n",
       "    <tr>\n",
       "      <th>1</th>\n",
       "      <td>W</td>\n",
       "      <td>visa</td>\n",
       "      <td>debit</td>\n",
       "      <td>0</td>\n",
       "    </tr>\n",
       "    <tr>\n",
       "      <th>2</th>\n",
       "      <td>H</td>\n",
       "      <td>visa</td>\n",
       "      <td>debit</td>\n",
       "      <td>0</td>\n",
       "    </tr>\n",
       "    <tr>\n",
       "      <th>3</th>\n",
       "      <td>W</td>\n",
       "      <td>discover</td>\n",
       "      <td>credit</td>\n",
       "      <td>0</td>\n",
       "    </tr>\n",
       "    <tr>\n",
       "      <th>4</th>\n",
       "      <td>W</td>\n",
       "      <td>visa</td>\n",
       "      <td>debit</td>\n",
       "      <td>0</td>\n",
       "    </tr>\n",
       "  </tbody>\n",
       "</table>\n",
       "</div>"
      ],
      "text/plain": [
       "  ProductCD       card4   card6  isFraud\n",
       "0         C  mastercard   debit        0\n",
       "1         W        visa   debit        0\n",
       "2         H        visa   debit        0\n",
       "3         W    discover  credit        0\n",
       "4         W        visa   debit        0"
      ]
     },
     "execution_count": 24,
     "metadata": {},
     "output_type": "execute_result"
    }
   ],
   "source": [
    "test_data_1 = pd.read_csv('test_data_1.csv')\n",
    "\n",
    "test_data_1.head()"
   ]
  },
  {
   "cell_type": "code",
   "execution_count": 25,
   "id": "65869d7f",
   "metadata": {},
   "outputs": [
    {
     "data": {
      "text/plain": [
       "0         C\n",
       "1         W\n",
       "2         H\n",
       "3         W\n",
       "4         W\n",
       "         ..\n",
       "472427    W\n",
       "472428    W\n",
       "472429    W\n",
       "472430    W\n",
       "472431    H\n",
       "Name: ProductCD, Length: 472432, dtype: object"
      ]
     },
     "execution_count": 25,
     "metadata": {},
     "output_type": "execute_result"
    }
   ],
   "source": [
    "test_data_1['ProductCD']"
   ]
  },
  {
   "cell_type": "code",
   "execution_count": 26,
   "id": "3d543d36",
   "metadata": {},
   "outputs": [],
   "source": [
    "def information_gain_for_discrete_attribute(examples_a, target_attribute, impurity='entropy'): # 02/28/2024 This stays. Fix this \n",
    "        \"\"\"\n",
    "\n",
    "        Parameters\n",
    "        ----------\n",
    "        examples_a : the attribute column whose feature is to be calculated \n",
    "            type: Pandas Series \n",
    "            \n",
    "        target_attribute : attribute whose value is to be predicted by tree \n",
    "            type: Pandas Series  \n",
    "        \n",
    "        attribute : attribute/column name for examples_a\n",
    "            type: string\n",
    "        \n",
    "        impurity_measure : gini/entropy \n",
    "            type: string\n",
    "\n",
    "        Returns\n",
    "        -------\n",
    "        scalar real number  \n",
    "            \n",
    "        \n",
    "        \n",
    "        self.information_gain( examples[a], target_attribute, 'entropy') # examples is pd df\n",
    "\n",
    "        \"\"\"\n",
    "        \n",
    "        #impurity_for_target_attribute = self.compute_impurity_for_discrete_attribute(target_attribute, impurity=impurity)\n",
    "        \n",
    "        \n",
    "        # get the unique values in examples_a\n",
    "        examples_a_values = np.unique(examples_a)\n",
    "        \n",
    "        N = examples_a.shape[0]\n",
    "        \n",
    "        result = compute_impurity_by_label(  np.array( target_attribute ), impurity=impurity)\n",
    "        \n",
    "        print( '\\t\\t\\tresult after initialization : ', result) # ok \n",
    "        \n",
    "        #sys.exit(0)\n",
    "        for a in examples_a_values: \n",
    "            \n",
    "            # get the subset of examples_a and corresponding tuple in target_attribute\n",
    "            #examples_a[attribute]\n",
    "            #print( examples_a[examples_a==a])\n",
    "            #print('-----')\n",
    "            #print('feature subset shape:\\n', examples_a[examples_a==a].shape)\n",
    "            #print('-----')\n",
    "            \n",
    "            #print( 'target subset shape:\\n', target_attribute[examples_a==a].shape )\n",
    "        \n",
    "            \n",
    "            #examples_a_subset = np.array( examples_a[examples_a==a] ) \n",
    "            \"\"\"\n",
    "            I don't need the line above rn\n",
    "            \"\"\"\n",
    "            \n",
    "            \n",
    "            #target_a_subset = np.array( target_attribute[examples_a==a] ) # converting to np for faster computation\n",
    "            \n",
    "            n = target_attribute[examples_a==a].shape[0]\n",
    "            #compute_impurity_by_label(  np.array( target_attribute[examples_a==a] ), impurity=impurity)\n",
    "            \n",
    "            \n",
    "            prob_float = float( n/ Decimal(N) )\n",
    "            \n",
    "            result = result - ( prob_float *  compute_impurity_by_label(  np.array( target_attribute[examples_a==a] ), impurity=impurity) ) \n",
    "                    \n",
    "            \n",
    "            print('\\t\\t---------------\\t\\t\\n')\n",
    "            #sys.exit(0)\n",
    "            \n",
    "            \n",
    "            \n",
    "            print('\\t\\t\\t--- final info gain : ', result )\n",
    "        return result # returns a scalar real number     "
   ]
  },
  {
   "cell_type": "code",
   "execution_count": 27,
   "id": "c5fc5963",
   "metadata": {},
   "outputs": [
    {
     "name": "stdout",
     "output_type": "stream",
     "text": [
      "\t\t Number of rows in attribute param: 472432\n",
      "0.9650108375385240133681463703396730124950408935546875\n",
      "0.034989162461475938059596302309728343971073627471923828125\n",
      "\t\tlabel_fractions:  [0.965010837538524, 0.03498916246147594]\n",
      "\t\tDifferent label values collected:  [0 1]\n",
      "\t\tDifferent label counts colleceted:  [455902  16530]\n",
      "\t\tFractions of different labels:  [0.96501084 0.03498916]\n",
      "-------------\n",
      "\n",
      "\n",
      "\n",
      "-------------\t\t\\entropy =  0.21882586530176718\n",
      "\t\t\tresult after initialization :  0.21882586530176718\n",
      "\t\t Number of rows in attribute param: 54643\n",
      "0.88269311714217735254095487107406370341777801513671875\n",
      "0.117306882857822591947893897668109275400638580322265625\n",
      "\t\tlabel_fractions:  [0.8826931171421774, 0.11730688285782259]\n",
      "\t\tDifferent label values collected:  [0 1]\n",
      "\t\tDifferent label counts colleceted:  [48233  6410]\n",
      "\t\tFractions of different labels:  [0.88269312 0.11730688]\n",
      "-------------\n",
      "\n",
      "\n",
      "\n",
      "-------------\t\t\\entropy =  0.521569715414749\n",
      "\t\t---------------\t\t\n",
      "\n",
      "\t\t\t--- final info gain :  0.15849943957402618\n",
      "\t\t Number of rows in attribute param: 26489\n",
      "0.9523575823926913042072328607900999486446380615234375\n",
      "0.0476424176073086957927671392099000513553619384765625\n",
      "\t\tlabel_fractions:  [0.9523575823926913, 0.047642417607308696]\n",
      "\t\tDifferent label values collected:  [0 1]\n",
      "\t\tDifferent label counts colleceted:  [25227  1262]\n",
      "\t\tFractions of different labels:  [0.95235758 0.04764242]\n",
      "-------------\n",
      "\n",
      "\n",
      "\n",
      "-------------\t\t\\entropy =  0.2762964223711254\n",
      "\t\t---------------\t\t\n",
      "\n",
      "\t\t\t--- final info gain :  0.1430076525397255\n",
      "\t\t Number of rows in attribute param: 30111\n",
      "0.96197402942446286200350868966779671609401702880859375\n",
      "0.03802597057553717962985473377557354979217052459716796875\n",
      "\t\tlabel_fractions:  [0.9619740294244629, 0.03802597057553718]\n",
      "\t\tDifferent label values collected:  [0 1]\n",
      "\t\tDifferent label counts colleceted:  [28966  1145]\n",
      "\t\tFractions of different labels:  [0.96197403 0.03802597]\n",
      "-------------\n",
      "\n",
      "\n",
      "\n",
      "-------------\t\t\\entropy =  0.23316695318724723\n",
      "\t\t---------------\t\t\n",
      "\n",
      "\t\t\t--- final info gain :  0.1281464870652843\n",
      "\t\t Number of rows in attribute param: 9328\n",
      "0.9433962264150943521912040523602627217769622802734375\n",
      "0.05660377358490566168658375545419403351843357086181640625\n",
      "\t\tlabel_fractions:  [0.9433962264150944, 0.05660377358490566]\n",
      "\t\tDifferent label values collected:  [0 1]\n",
      "\t\tDifferent label counts colleceted:  [8800  528]\n",
      "\t\tFractions of different labels:  [0.94339623 0.05660377]\n",
      "-------------\n",
      "\n",
      "\n",
      "\n",
      "-------------\t\t\\entropy =  0.3138129641688651\n",
      "\t\t---------------\t\t\n",
      "\n",
      "\t\t\t--- final info gain :  0.121950362903993\n",
      "\t\t Number of rows in attribute param: 351861\n",
      "0.97958000460409078158363627153448760509490966796875\n",
      "0.0204199953959091802524472569757563178427517414093017578125\n",
      "\t\tlabel_fractions:  [0.9795800046040908, 0.02041999539590918]\n",
      "\t\tDifferent label values collected:  [0 1]\n",
      "\t\tDifferent label counts colleceted:  [344676   7185]\n",
      "\t\tFractions of different labels:  [0.97958 0.02042]\n",
      "-------------\n",
      "\n",
      "\n",
      "\n",
      "-------------\t\t\\entropy =  0.1437922468945473\n",
      "\t\t---------------\t\t\n",
      "\n",
      "\t\t\t--- final info gain :  0.014855831236869885\n"
     ]
    },
    {
     "data": {
      "text/plain": [
       "0.014855831236869885"
      ]
     },
     "execution_count": 27,
     "metadata": {},
     "output_type": "execute_result"
    }
   ],
   "source": [
    "information_gain_for_discrete_attribute( test_data_1['ProductCD'], test_data_1['isFraud'], impurity='entropy')"
   ]
  },
  {
   "cell_type": "code",
   "execution_count": 28,
   "id": "0896d044",
   "metadata": {},
   "outputs": [
    {
     "data": {
      "text/plain": [
       "(array(['C', 'H', 'R', 'S', 'W'], dtype=object),\n",
       " array([ 54643,  26489,  30111,   9328, 351861]))"
      ]
     },
     "execution_count": 28,
     "metadata": {},
     "output_type": "execute_result"
    }
   ],
   "source": [
    "np.unique( test_data_1['ProductCD'], return_counts = True) "
   ]
  },
  {
   "cell_type": "code",
   "execution_count": 29,
   "id": "46f00222",
   "metadata": {},
   "outputs": [
    {
     "data": {
      "text/plain": [
       "472432"
      ]
     },
     "execution_count": 29,
     "metadata": {},
     "output_type": "execute_result"
    }
   ],
   "source": [
    "test_data_1['ProductCD'].shape[0]"
   ]
  },
  {
   "cell_type": "code",
   "execution_count": 30,
   "id": "a9c8f28f",
   "metadata": {},
   "outputs": [
    {
     "name": "stdout",
     "output_type": "stream",
     "text": [
      "\t\t Number of rows in attribute param: 472432\n",
      "0.9650108375385240133681463703396730124950408935546875\n",
      "0.034989162461475938059596302309728343971073627471923828125\n",
      "\t\tlabel_fractions:  [0.965010837538524, 0.03498916246147594]\n",
      "\t\tDifferent label values collected:  [0 1]\n",
      "\t\tDifferent label counts colleceted:  [455902  16530]\n",
      "\t\tFractions of different labels:  [0.96501084 0.03498916]\n",
      "-------------\n",
      "\n",
      "\n",
      "\n",
      "-------------\t\t\\entropy =  0.21882586530176718\n",
      "\t\t\tresult after initialization :  0.21882586530176718\n",
      "\t\t Number of rows in attribute param: 1269\n",
      "0.97241922773837663473983639050857163965702056884765625\n",
      "0.0275807722616233270962471380016722832806408405303955078125\n",
      "\t\tlabel_fractions:  [0.9724192277383766, 0.027580772261623327]\n",
      "\t\tDifferent label values collected:  [0 1]\n",
      "\t\tDifferent label counts colleceted:  [1234   35]\n",
      "\t\tFractions of different labels:  [0.97241923 0.02758077]\n",
      "-------------\n",
      "\n",
      "\n",
      "\n",
      "-------------\t\t\\entropy =  0.18211053219929707\n",
      "\t\t---------------\t\t\n",
      "\n",
      "\t\t\t--- final info gain :  0.21833669804518652\n",
      "\t\t Number of rows in attribute param: 6638\n",
      "0.9713769207592648502469501181622035801410675048828125\n",
      "0.0286230792407351601613907376986389863304793834686279296875\n",
      "\t\tlabel_fractions:  [0.9713769207592649, 0.02862307924073516]\n",
      "\t\tDifferent label values collected:  [0 1]\n",
      "\t\tDifferent label counts colleceted:  [6448  190]\n",
      "\t\tFractions of different labels:  [0.97137692 0.02862308]\n",
      "-------------\n",
      "\n",
      "\n",
      "\n",
      "-------------\t\t\\entropy =  0.18743895843937042\n",
      "\t\t---------------\t\t\n",
      "\n",
      "\t\t\t--- final info gain :  0.21570304959182066\n",
      "\t\t Number of rows in attribute param: 5350\n",
      "0.9224299065420560328476540234987623989582061767578125\n",
      "0.07757009345794392551898255305786733515560626983642578125\n",
      "\t\tlabel_fractions:  [0.922429906542056, 0.07757009345794393]\n",
      "\t\tDifferent label values collected:  [0 1]\n",
      "\t\tDifferent label counts colleceted:  [4935  415]\n",
      "\t\tFractions of different labels:  [0.92242991 0.07757009]\n",
      "-------------\n",
      "\n",
      "\n",
      "\n",
      "-------------\t\t\\entropy =  0.39355885167144466\n",
      "\t\t---------------\t\t\n",
      "\n",
      "\t\t\t--- final info gain :  0.21124623918007415\n",
      "\t\t Number of rows in attribute param: 151030\n",
      "0.96580811759253126780322418198920786380767822265625\n",
      "0.034191882407468711380094106289107003249228000640869140625\n",
      "\t\tlabel_fractions:  [0.9658081175925313, 0.03419188240746871]\n",
      "\t\tDifferent label values collected:  [0 1]\n",
      "\t\tDifferent label counts colleceted:  [145866   5164]\n",
      "\t\tFractions of different labels:  [0.96580812 0.03419188]\n",
      "-------------\n",
      "\n",
      "\n",
      "\n",
      "-------------\t\t\\entropy =  0.21499674911056593\n",
      "\t\t---------------\t\t\n",
      "\n",
      "\t\t\t--- final info gain :  0.1425147412752566\n",
      "\t\t Number of rows in attribute param: 308145\n",
      "0.9651917116941699514853780783596448600292205810546875\n",
      "0.0348082883058300485146219216403551399707794189453125\n",
      "\t\tlabel_fractions:  [0.96519171169417, 0.03480828830583005]\n",
      "\t\tDifferent label values collected:  [0 1]\n",
      "\t\tDifferent label counts colleceted:  [297419  10726]\n",
      "\t\tFractions of different labels:  [0.96519171 0.03480829]\n",
      "-------------\n",
      "\n",
      "\n",
      "\n",
      "-------------\t\t\\entropy =  0.21795958016275585\n",
      "\t\t---------------\t\t\n",
      "\n",
      "\t\t\t--- final info gain :  0.0003500385683010976\n"
     ]
    },
    {
     "data": {
      "text/plain": [
       "0.0003500385683010976"
      ]
     },
     "execution_count": 30,
     "metadata": {},
     "output_type": "execute_result"
    }
   ],
   "source": [
    "information_gain_for_discrete_attribute( test_data_1['card4'], test_data_1['isFraud'], impurity='entropy')"
   ]
  },
  {
   "cell_type": "code",
   "execution_count": 31,
   "id": "cb0f9feb",
   "metadata": {},
   "outputs": [
    {
     "data": {
      "text/plain": [
       "(array([0, 1]), array([455902,  16530]))"
      ]
     },
     "execution_count": 31,
     "metadata": {},
     "output_type": "execute_result"
    }
   ],
   "source": [
    "np.unique( test_data_1['isFraud'], return_counts=True) "
   ]
  },
  {
   "cell_type": "code",
   "execution_count": 32,
   "id": "8a2c446d",
   "metadata": {},
   "outputs": [
    {
     "data": {
      "text/plain": [
       "472432"
      ]
     },
     "execution_count": 32,
     "metadata": {},
     "output_type": "execute_result"
    }
   ],
   "source": [
    "test_data_1['isFraud'].shape[0]"
   ]
  },
  {
   "cell_type": "code",
   "execution_count": 33,
   "id": "7296e8dd",
   "metadata": {},
   "outputs": [
    {
     "name": "stdout",
     "output_type": "stream",
     "text": [
      "Index(['TransactionID', 'ProductCD', 'card1', 'card2', 'card3', 'card4',\n",
      "       'card5', 'card6', 'addr1', 'addr2', 'TransactionDT', 'TransactionAmt',\n",
      "       'C1', 'C2', 'C3', 'C4', 'C5', 'C6', 'C7', 'C8', 'C9', 'C10', 'C11',\n",
      "       'C12', 'C13', 'C14', 'isFraud'],\n",
      "      dtype='object')\n"
     ]
    }
   ],
   "source": [
    "\"\"\"\n",
    "\n",
    "\"\"\"\n",
    "\n",
    "df_cont_1 = pd.read_csv('train.csv')\n",
    "print( df_cont_1.columns ) \n",
    "\n",
    "df_cont_1 = df_cont_1[['TransactionAmt', 'isFraud']]"
   ]
  },
  {
   "cell_type": "code",
   "execution_count": 34,
   "id": "ce06c072",
   "metadata": {},
   "outputs": [],
   "source": [
    "df_cont_1\n",
    "\n",
    "examples_a = df_cont_1['TransactionAmt']\n",
    "target_attribute = df_cont_1['isFraud']"
   ]
  },
  {
   "cell_type": "code",
   "execution_count": 48,
   "id": "2ebe3d5d",
   "metadata": {},
   "outputs": [],
   "source": [
    "# sample \n",
    "\n",
    "def sample_continuous_attribute(examples_a,  target_attribute,  sampling_threshold=0.2): \n",
    "    \"\"\"\n",
    "    Paramters: \n",
    "    \n",
    "    - examples_a : pandas series \n",
    "    \n",
    "    - target_attribute : pandas series \n",
    "    \n",
    "    \n",
    "    Notice that column name is passed with pd series \n",
    "    \n",
    "    Returns: \n",
    "    - pandas df with the resampled df of shape (n, 2)\n",
    "    \n",
    "    \"\"\"\n",
    "    \n",
    "    \n",
    "    \n",
    "    attribute = examples_a.name\n",
    "    target = target_attribute.name\n",
    "    \n",
    "    print('\\tattribute and target name : ', attribute, ', ', target)\n",
    "    \n",
    "    \n",
    "    \n",
    "    df = pd.concat([examples_a, target_attribute], axis=1)\n",
    "    #df.rename(columns[])\n",
    "    print('Columns of new df formed', df.columns)\n",
    "    \n",
    "    \n",
    "    \"\"\"\n",
    "    I have a pseudocode for stratified sampling at this point\n",
    "    \"\"\"\n",
    "    \n",
    "    df_0 = df[ df[target] == 0 ]\n",
    "    df_1 = df[ df[target] == 1 ]\n",
    "    \n",
    "    \n",
    "    \"\"\"\n",
    "    I am keeping all the 1 and then taking only a \n",
    "    \"\"\"\n",
    "    \n",
    "    print('df_0.shape ', df_0.shape)\n",
    "    \n",
    "    print('-----')\n",
    "    print(\"Different quartile values for the continuous variable \", attribute, '\\n')\n",
    "    \n",
    "    low = df_0[attribute].quantile(0.00)\n",
    "    print('\\t\\tlow: ', low)\n",
    "    \n",
    "    first_quartile = df_0[attribute].quantile(0.25)\n",
    "    print('\\t\\tfirst quartile: ', first_quartile)\n",
    "    \n",
    "    median = df_0[attribute].quantile(0.50)\n",
    "    print('\\t\\tmedian: ', median)\n",
    "    \n",
    "    third_quartile = df_0[attribute].quantile(0.75) \n",
    "    print('\\t\\tthird_quartile: ', third_quartile)\n",
    "    \n",
    "    high = df_0[attribute].quantile(1.00)\n",
    "    print('\\t\\thigh: ', high)\n",
    "    \n",
    "    \n",
    "    # Filter tuples in df_0 below the first quartile\n",
    "    df_25 = df_0[   df_0[attribute ] < df_0[attribute].quantile(0.25)    ]\n",
    "    \n",
    "    \n",
    "    df_50 = df_0[ (df_0[attribute].quantile(0.25) <= df_0[attribute]) & ( df_0[attribute] < df_0[attribute].quantile(0.50) )]\n",
    "    \n",
    "\n",
    "    \n",
    "    df_75 = df_0[ (df_0[attribute].quantile(0.50) <= df_0[attribute])  & ( df_0[attribute] < df_0[attribute].quantile(0.75) )]\n",
    "    \n",
    "    df_100 =  df_0[( df_0[attribute].quantile(0.75) <= df_0[attribute] )]    #(df_0[attribute].quantile(0.75) <= df_0[df[attribute] ) \n",
    "\n",
    "    \n",
    "    print('1st df_0, ', df_25.shape)\n",
    "    print('2nd df_0, ', df_50.shape)\n",
    "    print('3rd df_0, ', df_75.shape)\n",
    "    print('4th df_0, ', df_100.shape)\n",
    "    #print(df_below_first_quartile.shape)\n",
    "    \n",
    "    \n",
    "    \"\"\"\n",
    "    \n",
    "    Take a samples of each interval \n",
    "    \n",
    "    \n",
    "    \"\"\"\n",
    "\n",
    "    \n",
    "    \n",
    "    SAMPLE_SIZE_0 = math.ceil(df_1.shape[0] * 4) \n",
    "    \n",
    "    quartile_sample_size = math.floor( SAMPLE_SIZE_0 / 4 ) \n",
    "    \n",
    "    \n",
    "    \n",
    "    print('df_1.shape : ', df_1.shape[0] ) \n",
    "    print('SAMPLE_SIZE_0', SAMPLE_SIZE_0)    \n",
    "    print('quartile_sample_size', quartile_sample_size)    \n",
    "    \n",
    "    \n",
    "    # Got all the info to .sample rn\n",
    "    \n",
    "    \n",
    "    df_25_sampled = df_25.sample(n = quartile_sample_size)\n",
    "    df_50_sampled = df_50.sample(n = quartile_sample_size)\n",
    "    df_75_sampled = df_75.sample(n = quartile_sample_size)\n",
    "    df_100_sampled = df_100.sample(n =quartile_sample_size)\n",
    "    \n",
    "    \n",
    "    print(df_25_sampled.shape)\n",
    "    print(df_50_sampled.shape)\n",
    "    print(df_75_sampled.shape)\n",
    "    print(df_100_sampled.shape)\n",
    "    \n",
    "    #print(df_0_25_sample_size)\n",
    "    \n",
    "    #df_0_50_sample_size = \n",
    "    #df_0_75_sample_size = \n",
    "    #df_0_100_sample_size = df.\n",
    "    \n",
    "    \n",
    "    df_sampled = pd.concat([df_25_sampled, df_50_sampled, df_75_sampled, df_100_sampled, df_1], axis=0) \n",
    "    \n",
    "    \n",
    "    print('In original dataset:', np.unique(target_attribute, return_counts=True))\n",
    "    print('In sampled dataset: ', np.unique(df_sampled['isFraud'], return_counts=True)) \n",
    "    \n",
    "    \"\"\"\n",
    "    - At this point, I have got the stratified sampled data that I want \n",
    "    - \n",
    "    \n",
    "    \"\"\"\n",
    "    \n",
    "    print(df_sampled.shape)\n",
    "    \n",
    "    return df_sampled \n",
    "    "
   ]
  },
  {
   "cell_type": "code",
   "execution_count": 49,
   "id": "50d05017",
   "metadata": {},
   "outputs": [
    {
     "name": "stdout",
     "output_type": "stream",
     "text": [
      "\tattribute and target name :  TransactionAmt ,  isFraud\n",
      "Columns of new df formed Index(['TransactionAmt', 'isFraud'], dtype='object')\n",
      "df_0.shape  (455902, 2)\n",
      "-----\n",
      "Different quartile values for the continuous variable  TransactionAmt \n",
      "\n",
      "\t\tlow:  0.251\n",
      "\t\tfirst quartile:  43.97\n",
      "\t\tmedian:  68.5\n",
      "\t\tthird_quartile:  120.0\n",
      "\t\thigh:  31940.0\n",
      "1st df_0,  (113819, 2)\n",
      "2nd df_0,  (113898, 2)\n",
      "3rd df_0,  (114198, 2)\n",
      "4th df_0,  (113987, 2)\n",
      "df_1.shape :  16530\n",
      "SAMPLE_SIZE_0 66120\n",
      "quartile_sample_size 16530\n",
      "(16530, 2)\n",
      "(16530, 2)\n",
      "(16530, 2)\n",
      "(16530, 2)\n",
      "In original dataset: (array([0, 1]), array([455902,  16530]))\n",
      "In sampled dataset:  (array([0, 1]), array([66120, 16530]))\n",
      "(82650, 2)\n"
     ]
    }
   ],
   "source": [
    "sample_continuous_attribute(examples_a, target_attribute, sampling_threshold=0.2)"
   ]
  },
  {
   "cell_type": "code",
   "execution_count": 37,
   "id": "85ab44ea",
   "metadata": {},
   "outputs": [
    {
     "data": {
      "text/plain": [
       "(49590, 66120)"
      ]
     },
     "execution_count": 37,
     "metadata": {},
     "output_type": "execute_result"
    }
   ],
   "source": [
    "16530 * 3, 16530 * 4 "
   ]
  },
  {
   "cell_type": "code",
   "execution_count": 38,
   "id": "5177e1a1",
   "metadata": {},
   "outputs": [
    {
     "data": {
      "text/plain": [
       "455902"
      ]
     },
     "execution_count": 38,
     "metadata": {},
     "output_type": "execute_result"
    }
   ],
   "source": [
    "113819+ 113898 + 114198 + 113987"
   ]
  },
  {
   "cell_type": "code",
   "execution_count": 41,
   "id": "8530879c",
   "metadata": {},
   "outputs": [
    {
     "data": {
      "text/plain": [
       "66120"
      ]
     },
     "execution_count": 41,
     "metadata": {},
     "output_type": "execute_result"
    }
   ],
   "source": [
    "16530*4"
   ]
  },
  {
   "cell_type": "code",
   "execution_count": null,
   "id": "52d45cd7",
   "metadata": {},
   "outputs": [],
   "source": []
  }
 ],
 "metadata": {
  "kernelspec": {
   "display_name": "Python 3 (ipykernel)",
   "language": "python",
   "name": "python3"
  },
  "language_info": {
   "codemirror_mode": {
    "name": "ipython",
    "version": 3
   },
   "file_extension": ".py",
   "mimetype": "text/x-python",
   "name": "python",
   "nbconvert_exporter": "python",
   "pygments_lexer": "ipython3",
   "version": "3.11.5"
  }
 },
 "nbformat": 4,
 "nbformat_minor": 5
}
