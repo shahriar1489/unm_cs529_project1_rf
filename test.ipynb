{
 "cells": [
  {
   "cell_type": "code",
   "execution_count": 162,
   "id": "a5e53365",
   "metadata": {},
   "outputs": [],
   "source": [
    "import numpy as np \n",
    "import pandas as pd \n",
    "import matplotlib.pyplot as plt \n",
    "\n",
    "\n",
    "import sys\n",
    "\n",
    "# Arithmetic \n",
    "from fractions import Fraction\n",
    "from decimal import Decimal\n"
   ]
  },
  {
   "cell_type": "code",
   "execution_count": 163,
   "id": "cacc900e",
   "metadata": {},
   "outputs": [
    {
     "name": "stdout",
     "output_type": "stream",
     "text": [
      "Maximum occurring index: 2\n",
      "Maximum occurring value: 2\n"
     ]
    }
   ],
   "source": [
    "import numpy as np\n",
    "\n",
    "# Example column vector\n",
    "column_vector = np.array([1, 2, 3, 2, 2, 4, 5, 2])\n",
    "\n",
    "# Find the index of the maximum occurring value\n",
    "max_index = np.argmax(np.bincount(column_vector))\n",
    "\n",
    "\n",
    "# Get the maximum occurring value\n",
    "max_value = np.bincount(column_vector).argmax()\n",
    "\n",
    "print(\"Maximum occurring index:\", max_index)\n",
    "print(\"Maximum occurring value:\", max_value)\n"
   ]
  },
  {
   "cell_type": "code",
   "execution_count": 164,
   "id": "bf9fe971",
   "metadata": {},
   "outputs": [
    {
     "data": {
      "text/plain": [
       "2"
      ]
     },
     "execution_count": 164,
     "metadata": {},
     "output_type": "execute_result"
    }
   ],
   "source": [
    "np.argmax(np.bincount(column_vector))"
   ]
  },
  {
   "cell_type": "code",
   "execution_count": 165,
   "id": "b82cc2db",
   "metadata": {},
   "outputs": [
    {
     "data": {
      "text/plain": [
       "'\\nimport numpy as np\\n\\n# Create a NumPy array representing the column vector\\ndata = np.array([222,222,222,222,222,222,222,222, 1, 1, 0, 1, 1, 0, 0, 1])\\n\\n# Find the most frequent target value\\ntarget_value, target_count = np.unique(data, return_counts=True)\\nmost_frequent_value = target_value[np.argmax(target_count)]\\n\\n\\n\\n\\n\\n\\nprint(\"The most frequent value is:\", most_frequent_value)\\n'"
      ]
     },
     "execution_count": 165,
     "metadata": {},
     "output_type": "execute_result"
    }
   ],
   "source": [
    "\"\"\"\n",
    "import numpy as np\n",
    "\n",
    "# Create a NumPy array representing the column vector\n",
    "data = np.array([222,222,222,222,222,222,222,222, 1, 1, 0, 1, 1, 0, 0, 1])\n",
    "\n",
    "# Find the most frequent target value\n",
    "target_value, target_count = np.unique(data, return_counts=True)\n",
    "most_frequent_value = target_value[np.argmax(target_count)]\n",
    "\n",
    "\n",
    "\n",
    "\n",
    "\n",
    "\n",
    "print(\"The most frequent value is:\", most_frequent_value)\n",
    "\"\"\"\n"
   ]
  },
  {
   "cell_type": "code",
   "execution_count": 166,
   "id": "e7dc9874",
   "metadata": {},
   "outputs": [],
   "source": [
    "#label_value"
   ]
  },
  {
   "cell_type": "code",
   "execution_count": 167,
   "id": "87dcf58c",
   "metadata": {},
   "outputs": [],
   "source": [
    "#label_count"
   ]
  },
  {
   "cell_type": "code",
   "execution_count": 168,
   "id": "942fbf65",
   "metadata": {},
   "outputs": [],
   "source": [
    "#np.argmax(label_count) # return index number "
   ]
  },
  {
   "cell_type": "code",
   "execution_count": 169,
   "id": "1d258894",
   "metadata": {},
   "outputs": [
    {
     "name": "stdout",
     "output_type": "stream",
     "text": [
      "1\n",
      "2\n",
      "3\n",
      "4\n",
      "5\n",
      "6\n"
     ]
    }
   ],
   "source": [
    "import numpy as np\n",
    "\n",
    "arr = np.array([[1, 2, 3], [4, 5, 6]])\n",
    "\n",
    "for row in arr:\n",
    "    for element in row:\n",
    "        print(element)"
   ]
  },
  {
   "cell_type": "code",
   "execution_count": 170,
   "id": "1a2c60b6",
   "metadata": {},
   "outputs": [
    {
     "name": "stdout",
     "output_type": "stream",
     "text": [
      "2\n",
      "4\n",
      "6\n",
      "8\n"
     ]
    }
   ],
   "source": [
    "for i in np.array([2, 4, 6, 8]): \n",
    "    print(i)"
   ]
  },
  {
   "cell_type": "code",
   "execution_count": 321,
   "id": "f06559c5",
   "metadata": {},
   "outputs": [],
   "source": [
    "def compute_impurity_by_label(attribute, impurity='gini'): # Impurity of the total dataset : DONE\n",
    "        \n",
    "        \"\"\"\n",
    "        FEATURES: \n",
    "        \n",
    "        attribute : pandas df\n",
    "            the column whose entropy is to be calculated\n",
    "        \n",
    "        impurity : string \n",
    "            the impurity measure used- gini or entropty \n",
    "        \n",
    "        \n",
    "        Returns \n",
    "            np real scalar number \n",
    "        \"\"\"\n",
    "        \n",
    "    \n",
    "        # get the total number of instances/rows in the dataset\n",
    "        N = attribute.shape[0]\n",
    "        \n",
    "        print('\\t\\t Number of rows in attribute param:', N)\n",
    "        #sys.exit(0)\n",
    "    \n",
    "        # get the count\n",
    "        label_values, label_counts = np.unique(attribute, return_counts=True)\n",
    "        label_fractions = []\n",
    "    \n",
    "    \n",
    "        # get the fractions for the each of the labels- better to use loop be cause there can be more than two labels\n",
    "    \n",
    "        for count in label_counts :\n",
    "            print(Decimal(count/N)) \n",
    "            \n",
    "            result_float = float( count/ Decimal(N) )\n",
    "            \n",
    "            label_fractions.append( result_float  )\n",
    "    \n",
    "    \n",
    "        print('\\t\\tlabel_fractions: ',label_fractions)\n",
    "        \n",
    "        label_fractions = np.array( label_fractions )\n",
    "        print('\\t\\tDifferent label values collected: ', label_values)\n",
    "        print('\\t\\tDifferent label counts colleceted: ', label_counts)\n",
    "        print('\\t\\tFractions of different labels: ', label_fractions)\n",
    "    \n",
    "    \n",
    "        # write a subroutine for entropy\n",
    "        if impurity=='entropy':\n",
    "            #return  - np.sum ( label_fractions * np.log2(  label_fractions ) ) # This returns the complete entropy \n",
    "            print('-------------\\n\\n\\n')\n",
    "            #print(\"\\t\\t\\tInside impurity=entropy\",  -1 * label_fractions * np.log2(label_fractions) ) \n",
    "    \n",
    "            print(\"-------------\\t\\t\\tnp.sum = \", -np.sum(  label_fractions * np.log2(label_fractions) ) )\n",
    "            \n",
    "            \n",
    "            return -np.sum(  label_fractions * np.log2(label_fractions) )\n",
    "            \n",
    "            \n",
    "            \n",
    "            \n",
    "    \n",
    "        # write a subroutine for gini\n",
    "        elif impurity=='gini':  \n",
    "    \n",
    "          return 1 - np.sum(  np.square( label_fractions )   ) # 1 - sum of elementwise fraction #This returns the complete gini\n",
    "    \n",
    "        else :\n",
    "          print(\"ERROR: impurity metric can be either of gini or entropy.\")\n",
    "          return -1"
   ]
  },
  {
   "cell_type": "code",
   "execution_count": 333,
   "id": "bb88a629",
   "metadata": {},
   "outputs": [
    {
     "name": "stdout",
     "output_type": "stream",
     "text": [
      "  attribute\n",
      "0         A\n",
      "1         B\n",
      "2         A\n",
      "3         A\n",
      "4         A\n"
     ]
    }
   ],
   "source": [
    "# Define the discrete values\n",
    "discrete_values = ['A', 'B']\n",
    "\n",
    "# Generate the test data\n",
    "test_data = pd.DataFrame({'attribute': np.random.choice(discrete_values, size=100)})\n",
    "\n",
    "print(test_data.head())\n",
    "\n",
    "\n"
   ]
  },
  {
   "cell_type": "code",
   "execution_count": 334,
   "id": "1b53ab80",
   "metadata": {},
   "outputs": [
    {
     "data": {
      "text/plain": [
       "(100, 1)"
      ]
     },
     "execution_count": 334,
     "metadata": {},
     "output_type": "execute_result"
    }
   ],
   "source": [
    "test_data.shape"
   ]
  },
  {
   "cell_type": "code",
   "execution_count": 335,
   "id": "2bf2a890",
   "metadata": {},
   "outputs": [
    {
     "data": {
      "text/plain": [
       "Index(['attribute'], dtype='object')"
      ]
     },
     "execution_count": 335,
     "metadata": {},
     "output_type": "execute_result"
    }
   ],
   "source": [
    "test_data.columns"
   ]
  },
  {
   "cell_type": "code",
   "execution_count": 336,
   "id": "7d79620b",
   "metadata": {},
   "outputs": [
    {
     "name": "stdout",
     "output_type": "stream",
     "text": [
      "\t\t Number of rows in attribute param: 100\n",
      "0.440000000000000002220446049250313080847263336181640625\n",
      "0.560000000000000053290705182007513940334320068359375\n",
      "\t\tlabel_fractions:  [0.44, 0.56]\n",
      "\t\tDifferent label values collected:  ['A' 'B']\n",
      "\t\tDifferent label counts colleceted:  [44 56]\n",
      "\t\tFractions of different labels:  [0.44 0.56]\n"
     ]
    },
    {
     "data": {
      "text/plain": [
       "0.4927999999999999"
      ]
     },
     "execution_count": 336,
     "metadata": {},
     "output_type": "execute_result"
    }
   ],
   "source": [
    "compute_impurity_by_label(test_data, impurity='gini')"
   ]
  },
  {
   "cell_type": "code",
   "execution_count": 337,
   "id": "63291a77",
   "metadata": {},
   "outputs": [
    {
     "name": "stdout",
     "output_type": "stream",
     "text": [
      "\t\t Number of rows in attribute param: 100\n",
      "0.440000000000000002220446049250313080847263336181640625\n",
      "0.560000000000000053290705182007513940334320068359375\n",
      "\t\tlabel_fractions:  [0.44, 0.56]\n",
      "\t\tDifferent label values collected:  ['A' 'B']\n",
      "\t\tDifferent label counts colleceted:  [44 56]\n",
      "\t\tFractions of different labels:  [0.44 0.56]\n",
      "-------------\n",
      "\n",
      "\n",
      "\n",
      "-------------\t\t\tnp.sum =  0.9895875212220556\n"
     ]
    },
    {
     "data": {
      "text/plain": [
       "0.9895875212220556"
      ]
     },
     "execution_count": 337,
     "metadata": {},
     "output_type": "execute_result"
    }
   ],
   "source": [
    "compute_impurity_by_label(test_data, impurity='entropy')"
   ]
  },
  {
   "cell_type": "code",
   "execution_count": 316,
   "id": "cbdd63c8",
   "metadata": {},
   "outputs": [
    {
     "name": "stdout",
     "output_type": "stream",
     "text": [
      "\t\t Number of rows in attribute param: 70\n",
      "0.85714285714285709527615608749329112470149993896484375\n",
      "0.142857142857142849212692681248881854116916656494140625\n",
      "\t\tlabel_fractions:  [0.8571428571428571, 0.14285714285714285]\n",
      "\t\tDifferent label values collected:  ['A' 'B']\n",
      "\t\tDifferent label counts colleceted:  [60 10]\n",
      "\t\tFractions of different labels:  [0.85714286 0.14285714]\n",
      "-------------\n",
      "\n",
      "\n",
      "\n",
      "-------------\t\t\tnp.sum =  0.5916727785823275\n",
      "entropy:\t None\n"
     ]
    }
   ],
   "source": [
    "\"\"\"\n",
    "Issues reported in the compute_impurity_by_label method: \n",
    "\n",
    "    i) entropy is returning more than 1 \n",
    "        \n",
    "        - Proposed solution: \n",
    "            - Use a \n",
    "\n",
    "\n",
    "\n",
    "\"\"\"\n",
    "\n",
    "\n",
    "# Define the labels and their counts\n",
    "labels = ['A'] * 60 + ['B'] * 10 \n",
    "\n",
    "# Shuffle the labels to randomize the order\n",
    "np.random.shuffle(labels)\n",
    "\n",
    "# Create a DataFrame with the labels\n",
    "test_data_2 = pd.DataFrame({'attribute': labels})\n",
    "\n",
    "#print(test_data_2.head())\n",
    "\n",
    "\n",
    "print( 'entropy:\\t',compute_impurity_by_label(test_data_2, impurity='entropy') ) \n",
    "#|print( 'gini:\\t', compute_impurity_by_label(test_data_2, impurity='gini') ) \n",
    "\n",
    "\n",
    "\n",
    "\n"
   ]
  },
  {
   "cell_type": "code",
   "execution_count": 317,
   "id": "cb441368",
   "metadata": {},
   "outputs": [
    {
     "data": {
      "text/plain": [
       "decimal.Decimal"
      ]
     },
     "execution_count": 317,
     "metadata": {},
     "output_type": "execute_result"
    }
   ],
   "source": [
    "type( Decimal(60/100) ) "
   ]
  },
  {
   "cell_type": "code",
   "execution_count": 318,
   "id": "d2183879",
   "metadata": {},
   "outputs": [
    {
     "data": {
      "text/plain": [
       "0.6"
      ]
     },
     "execution_count": 318,
     "metadata": {},
     "output_type": "execute_result"
    }
   ],
   "source": [
    "float( Decimal(60/100) ) "
   ]
  },
  {
   "cell_type": "code",
   "execution_count": 319,
   "id": "ca55f4f8",
   "metadata": {},
   "outputs": [
    {
     "data": {
      "text/plain": [
       "0.442182"
      ]
     },
     "execution_count": 319,
     "metadata": {},
     "output_type": "execute_result"
    }
   ],
   "source": [
    "-0.73697 * -.6"
   ]
  },
  {
   "cell_type": "code",
   "execution_count": 320,
   "id": "73a0dde6",
   "metadata": {},
   "outputs": [
    {
     "name": "stdout",
     "output_type": "stream",
     "text": [
      "Entropy: 0.9182958340544896\n"
     ]
    }
   ],
   "source": [
    "import numpy as np\n",
    "\n",
    "# Given label counts\n",
    "label_counts = np.array([60,  30])\n",
    "\n",
    "# Total count of labels\n",
    "total_count = np.sum(label_counts)\n",
    "\n",
    "# Calculate probabilities\n",
    "probabilities = label_counts / total_count\n",
    "\n",
    "# Calculate entropy\n",
    "entropy = -np.sum(probabilities * np.log2(probabilities))\n",
    "\n",
    "print(\"Entropy:\", entropy)"
   ]
  },
  {
   "cell_type": "code",
   "execution_count": null,
   "id": "3d543d36",
   "metadata": {},
   "outputs": [],
   "source": []
  }
 ],
 "metadata": {
  "kernelspec": {
   "display_name": "Python 3 (ipykernel)",
   "language": "python",
   "name": "python3"
  },
  "language_info": {
   "codemirror_mode": {
    "name": "ipython",
    "version": 3
   },
   "file_extension": ".py",
   "mimetype": "text/x-python",
   "name": "python",
   "nbconvert_exporter": "python",
   "pygments_lexer": "ipython3",
   "version": "3.11.5"
  }
 },
 "nbformat": 4,
 "nbformat_minor": 5
}
